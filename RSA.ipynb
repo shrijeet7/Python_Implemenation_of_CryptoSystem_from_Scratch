{
 "cells": [
  {
   "cell_type": "markdown",
   "metadata": {},
   "source": [
    "# RSA  Cryptosystem"
   ]
  },
  {
   "cell_type": "code",
   "execution_count": 1,
   "metadata": {},
   "outputs": [],
   "source": [
    "import time\n",
    "import random"
   ]
  },
  {
   "cell_type": "markdown",
   "metadata": {},
   "source": [
    "# Fast exponentiation algorithm"
   ]
  },
  {
   "cell_type": "code",
   "execution_count": 2,
   "metadata": {},
   "outputs": [],
   "source": [
    "def fexp(x,e,m): #x^e % m\n",
    "\n",
    "    X = x\n",
    "    E = e\n",
    "    Y = 1\n",
    "    while E > 0:\n",
    "        if E % 2 == 0:\n",
    "            X = (X * X) % m\n",
    "            E = E/2\n",
    "        else:\n",
    "            Y = (X * Y) % m\n",
    "            E = E - 1\n",
    "    return Y"
   ]
  },
  {
   "cell_type": "markdown",
   "metadata": {},
   "source": [
    "# Check if a number is prime or not\n",
    "    take any number 'a' and 'p' \n",
    "    if a^p-1 mod p = 1 \n",
    "    then p is prime else not prime"
   ]
  },
  {
   "cell_type": "code",
   "execution_count": 3,
   "metadata": {},
   "outputs": [],
   "source": [
    "def primality_testing(n):\n",
    "    #trival cases\n",
    "    if n == 1 or n == 4:\n",
    "        return False\n",
    "    elif n == 2 or n == 3:\n",
    "        return True\n",
    "    else:\n",
    "        for i in range(3):  # for more confidence\n",
    "            # Pick a random number\n",
    "            # in [2..n-2]     \n",
    "            a = random.randint(2, n - 2)\n",
    "\n",
    "            # Fermat's little theorem\n",
    "            if fexp(a, n - 1, n) != 1:\n",
    "                return False\n",
    "\n",
    "    return True"
   ]
  },
  {
   "cell_type": "code",
   "execution_count": 4,
   "metadata": {},
   "outputs": [
    {
     "name": "stdout",
     "output_type": "stream",
     "text": [
      "True\n",
      "Time taken in seconds : {} 0.0030031204223632812\n"
     ]
    }
   ],
   "source": [
    "start = time.time()\n",
    "print(primality_testing(98876532401))\n",
    "end = time.time()\n",
    "\n",
    "print(\"Time taken in seconds : {}\",format(end-start))"
   ]
  },
  {
   "cell_type": "markdown",
   "metadata": {},
   "source": [
    "# Brute force method to check for prime"
   ]
  },
  {
   "cell_type": "code",
   "execution_count": 5,
   "metadata": {},
   "outputs": [],
   "source": [
    "def primeorNot(n):\n",
    "    c=0\n",
    "    for i in range(1,n+1):\n",
    "        if n%i == 0:\n",
    "            c+=1\n",
    "            if c >2:\n",
    "                return False\n",
    "    if c == 2:\n",
    "        return True \n",
    "    else:\n",
    "        return False"
   ]
  },
  {
   "cell_type": "code",
   "execution_count": 6,
   "metadata": {},
   "outputs": [
    {
     "name": "stdout",
     "output_type": "stream",
     "text": [
      "True\n",
      "Time taken in seconds : {} 12.26117730140686\n"
     ]
    }
   ],
   "source": [
    "start = time.time()\n",
    "print(primeorNot(83139671))\n",
    "end = time.time()\n",
    "\n",
    "print(\"Time taken in seconds : {}\",format(end-start))"
   ]
  },
  {
   "cell_type": "markdown",
   "metadata": {},
   "source": [
    "    we see here the primality test using brute force takes huge amount of time for large primes hence we use\n",
    "    fermat little theorem for primality testing which uses the fast exponentiation or square and multiply algorithm \n",
    "    which reduces the time complexity to a great extent.\n",
    "    The primality test is used below to check is a number is prime or not."
   ]
  },
  {
   "cell_type": "markdown",
   "metadata": {},
   "source": [
    "# function to generate next prime number given a number n"
   ]
  },
  {
   "cell_type": "code",
   "execution_count": 7,
   "metadata": {},
   "outputs": [],
   "source": [
    "def nextPrime(n):\n",
    "    if n< 0:\n",
    "        prime = None\n",
    "        print(\"\\nPlease enter a number greater than 0...\")\n",
    "        return prime\n",
    "    \n",
    "    if n == 1 or n == 0:\n",
    "        return 2\n",
    " \n",
    "    prime = n\n",
    " \n",
    "    while(1):\n",
    "        prime = prime + 1\n",
    "        if(primality_testing(prime) == True):\n",
    "            break\n",
    " \n",
    "    return prime"
   ]
  },
  {
   "cell_type": "code",
   "execution_count": 8,
   "metadata": {},
   "outputs": [
    {
     "data": {
      "text/plain": [
       "101"
      ]
     },
     "execution_count": 8,
     "metadata": {},
     "output_type": "execute_result"
    }
   ],
   "source": [
    "nextPrime(100)"
   ]
  },
  {
   "cell_type": "code",
   "execution_count": 9,
   "metadata": {},
   "outputs": [
    {
     "data": {
      "text/plain": [
       "103"
      ]
     },
     "execution_count": 9,
     "metadata": {},
     "output_type": "execute_result"
    }
   ],
   "source": [
    "nextPrime(101)"
   ]
  },
  {
   "cell_type": "markdown",
   "metadata": {},
   "source": [
    "# Eucledian GCD algorithm"
   ]
  },
  {
   "cell_type": "code",
   "execution_count": 10,
   "metadata": {},
   "outputs": [],
   "source": [
    "def egcd(a, b):\n",
    "    if a == 0:\n",
    "        return (b, 0, 1)\n",
    "    g, y, x = egcd(b%a,a)\n",
    "    return (g, x - (b//a) * y, y)"
   ]
  },
  {
   "cell_type": "markdown",
   "metadata": {},
   "source": [
    "# Function to find modular inverse based on eucledian GCD algorithm"
   ]
  },
  {
   "cell_type": "code",
   "execution_count": 11,
   "metadata": {},
   "outputs": [],
   "source": [
    "def modinv(a, m):\n",
    "    g, x, y = egcd(a, m)\n",
    "    if g != 1:\n",
    "        raise Exception('No modular inverse')\n",
    "    return x%m"
   ]
  },
  {
   "cell_type": "markdown",
   "metadata": {},
   "source": [
    "# Key Generation"
   ]
  },
  {
   "cell_type": "code",
   "execution_count": 12,
   "metadata": {},
   "outputs": [],
   "source": [
    "def keyGeneration(p,q):\n",
    "    n = p*q\n",
    "    phi_n = (p-1)*(q-1)\n",
    "    #print(phi_n)\n",
    "    e=random.randint(max(p,q)+1,phi_n-1) # e must be an integer, co prime to phi_n and 1 < e < phi_n\n",
    "    # still setting e to a high value to avoid attacks based on small encryption exponent e\n",
    "\n",
    "    while(1):\n",
    "        gcd,_,_=egcd(e,phi_n) \n",
    "        if(gcd==1):\n",
    "            break\n",
    "        else:\n",
    "            e = random.randint(max(p,q)+1,phi_n-1)# e must be an integer, co prime to phi_n and 1 < e < phi_n\n",
    "            \n",
    "    # d*e = 1 mod (Phi_n) ==> d = e^-1 mod phi_n\n",
    "    d = modinv(e,phi_n)\n",
    "    \n",
    "    return (e,n) , d # e,n public key ; d = private key\n"
   ]
  },
  {
   "cell_type": "code",
   "execution_count": 13,
   "metadata": {},
   "outputs": [
    {
     "name": "stdout",
     "output_type": "stream",
     "text": [
      "\n",
      "Public key ==> e : 4460688859, n : 8100720007\n",
      "Private key : 2177495539\n"
     ]
    }
   ],
   "source": [
    "p=nextPrime(90000)\n",
    "q=nextPrime(p)\n",
    "\n",
    "public , private = keyGeneration(p,q)\n",
    "print(\"\\nPublic key ==> e : {}, n : {}\\nPrivate key : {}\".format(public[0],public[1],private))"
   ]
  },
  {
   "cell_type": "markdown",
   "metadata": {},
   "source": [
    "# Encryption Function\n",
    "    cipher = message^e % n"
   ]
  },
  {
   "cell_type": "code",
   "execution_count": 14,
   "metadata": {},
   "outputs": [],
   "source": [
    "def encrypt(message,publickey):\n",
    "    #print(\"\\nEncrypting the message...\\nGenerating the cipher...\")\n",
    "    cipher= fexp(message,publickey[0],publickey[1])\n",
    "    #print(\"\\nEncryption complete...\")\n",
    "    return cipher"
   ]
  },
  {
   "cell_type": "code",
   "execution_count": 15,
   "metadata": {},
   "outputs": [
    {
     "name": "stdout",
     "output_type": "stream",
     "text": [
      "\n",
      "Enter message:\t43\n",
      "\n",
      "Encrypted message : 6481777465\n"
     ]
    }
   ],
   "source": [
    "m = int(input(\"\\nEnter message:\\t\"))\n",
    "c = encrypt(m,public)\n",
    "print(\"\\nEncrypted message : {}\".format(c))"
   ]
  },
  {
   "cell_type": "markdown",
   "metadata": {},
   "source": [
    "# Decryption Function \n",
    "    message  = cipher ^ d % n \n",
    "    where d is e^-1 mod phi_n"
   ]
  },
  {
   "cell_type": "code",
   "execution_count": 16,
   "metadata": {},
   "outputs": [],
   "source": [
    "def decrypt(cipher,publickey,privatekey):\n",
    "    #print(\"\\nDecrypting the message...\\nRecovering the original message...\")\n",
    "    p = fexp(cipher,privatekey,publickey[1])\n",
    "    #print(\"\\nDecrpyting Complete..\")\n",
    "    return p"
   ]
  },
  {
   "cell_type": "code",
   "execution_count": 17,
   "metadata": {},
   "outputs": [
    {
     "name": "stdout",
     "output_type": "stream",
     "text": [
      "\n",
      "Decrypted message : 43\n"
     ]
    }
   ],
   "source": [
    "p = decrypt(c,public,private)\n",
    "print(\"\\nDecrypted message : {}\".format(p))"
   ]
  },
  {
   "cell_type": "code",
   "execution_count": null,
   "metadata": {},
   "outputs": [],
   "source": []
  },
  {
   "cell_type": "markdown",
   "metadata": {},
   "source": [
    "# RSA cryptosystem for Encryption and decryption of text files."
   ]
  },
  {
   "cell_type": "markdown",
   "metadata": {},
   "source": [
    "# Rough work"
   ]
  },
  {
   "cell_type": "code",
   "execution_count": 18,
   "metadata": {},
   "outputs": [
    {
     "data": {
      "text/plain": [
       "'010011010111100100100000011011100110000101101101011001010010000001101001011100110010000001010011011010000111001001101001011010100110010101100101011101000010000001000010011010010111001101110111011000010111001100100000001011000010000001100001011011100110010000100000011010010110011000100000011101000110100001101001011100110010000001110111011011110111001001101011011100110010000001110100011010000110010101101110001000000110110101111001001000000110110001101111011001110110100101100011001000000111011101100001011100110010000001100011011011110111001001110010011001010110001101110100001011100010111000101110001000010010000100100000001110110010110100101001'"
      ]
     },
     "execution_count": 18,
     "metadata": {},
     "output_type": "execute_result"
    }
   ],
   "source": [
    "s = \"My name is Shrijeet Biswas , and if this works then my logic was correct...!! ;-)\"\n",
    "m = len(s)\n",
    "bineq = ''.join(format(ord(i),'08b') for i in s)\n",
    "n = len(bineq)\n",
    "bineq\n"
   ]
  },
  {
   "cell_type": "code",
   "execution_count": 19,
   "metadata": {},
   "outputs": [
    {
     "name": "stdout",
     "output_type": "stream",
     "text": [
      "81 648\n"
     ]
    }
   ],
   "source": [
    "print(m,n)"
   ]
  },
  {
   "cell_type": "code",
   "execution_count": 20,
   "metadata": {},
   "outputs": [],
   "source": [
    "ptext = []\n",
    "for i in range(0,n,8):\n",
    "    temp = bineq[i:i+8]\n",
    "    ptext.append(temp)\n",
    "    \n",
    "        "
   ]
  },
  {
   "cell_type": "code",
   "execution_count": 21,
   "metadata": {},
   "outputs": [
    {
     "data": {
      "text/plain": [
       "['01001101',\n",
       " '01111001',\n",
       " '00100000',\n",
       " '01101110',\n",
       " '01100001',\n",
       " '01101101',\n",
       " '01100101',\n",
       " '00100000',\n",
       " '01101001',\n",
       " '01110011',\n",
       " '00100000',\n",
       " '01010011',\n",
       " '01101000',\n",
       " '01110010',\n",
       " '01101001',\n",
       " '01101010',\n",
       " '01100101',\n",
       " '01100101',\n",
       " '01110100',\n",
       " '00100000',\n",
       " '01000010',\n",
       " '01101001',\n",
       " '01110011',\n",
       " '01110111',\n",
       " '01100001',\n",
       " '01110011',\n",
       " '00100000',\n",
       " '00101100',\n",
       " '00100000',\n",
       " '01100001',\n",
       " '01101110',\n",
       " '01100100',\n",
       " '00100000',\n",
       " '01101001',\n",
       " '01100110',\n",
       " '00100000',\n",
       " '01110100',\n",
       " '01101000',\n",
       " '01101001',\n",
       " '01110011',\n",
       " '00100000',\n",
       " '01110111',\n",
       " '01101111',\n",
       " '01110010',\n",
       " '01101011',\n",
       " '01110011',\n",
       " '00100000',\n",
       " '01110100',\n",
       " '01101000',\n",
       " '01100101',\n",
       " '01101110',\n",
       " '00100000',\n",
       " '01101101',\n",
       " '01111001',\n",
       " '00100000',\n",
       " '01101100',\n",
       " '01101111',\n",
       " '01100111',\n",
       " '01101001',\n",
       " '01100011',\n",
       " '00100000',\n",
       " '01110111',\n",
       " '01100001',\n",
       " '01110011',\n",
       " '00100000',\n",
       " '01100011',\n",
       " '01101111',\n",
       " '01110010',\n",
       " '01110010',\n",
       " '01100101',\n",
       " '01100011',\n",
       " '01110100',\n",
       " '00101110',\n",
       " '00101110',\n",
       " '00101110',\n",
       " '00100001',\n",
       " '00100001',\n",
       " '00100000',\n",
       " '00111011',\n",
       " '00101101',\n",
       " '00101001']"
      ]
     },
     "execution_count": 21,
     "metadata": {},
     "output_type": "execute_result"
    }
   ],
   "source": [
    "ptext"
   ]
  },
  {
   "cell_type": "code",
   "execution_count": 22,
   "metadata": {},
   "outputs": [
    {
     "data": {
      "text/plain": [
       "77"
      ]
     },
     "execution_count": 22,
     "metadata": {},
     "output_type": "execute_result"
    }
   ],
   "source": [
    "int(ptext[0],2)"
   ]
  },
  {
   "cell_type": "code",
   "execution_count": 23,
   "metadata": {},
   "outputs": [
    {
     "data": {
      "text/plain": [
       "'M'"
      ]
     },
     "execution_count": 23,
     "metadata": {},
     "output_type": "execute_result"
    }
   ],
   "source": [
    "chr(int(ptext[0],2))"
   ]
  },
  {
   "cell_type": "code",
   "execution_count": 24,
   "metadata": {},
   "outputs": [
    {
     "data": {
      "text/plain": [
       "1441219143"
      ]
     },
     "execution_count": 24,
     "metadata": {},
     "output_type": "execute_result"
    }
   ],
   "source": [
    "cipher = encrypt(int(ptext[0],2),public)\n",
    "cipher"
   ]
  },
  {
   "cell_type": "code",
   "execution_count": 25,
   "metadata": {},
   "outputs": [
    {
     "data": {
      "text/plain": [
       "'M'"
      ]
     },
     "execution_count": 25,
     "metadata": {},
     "output_type": "execute_result"
    }
   ],
   "source": [
    "plain = chr(decrypt(cipher,public,private))\n",
    "plain"
   ]
  },
  {
   "cell_type": "code",
   "execution_count": 26,
   "metadata": {},
   "outputs": [],
   "source": [
    "cipher = []\n",
    "for i in ptext:\n",
    "    c = encrypt(int(i,2),public)\n",
    "    cipher.append(c)"
   ]
  },
  {
   "cell_type": "code",
   "execution_count": 27,
   "metadata": {},
   "outputs": [
    {
     "data": {
      "text/plain": [
       "[1441219143,\n",
       " 7446351721,\n",
       " 6430492805,\n",
       " 5479922096,\n",
       " 5782120281,\n",
       " 7394821408,\n",
       " 7180122144,\n",
       " 6430492805,\n",
       " 818531247,\n",
       " 2299956557,\n",
       " 6430492805,\n",
       " 2312990188,\n",
       " 7303239381,\n",
       " 4648286961,\n",
       " 818531247,\n",
       " 4515427225,\n",
       " 7180122144,\n",
       " 7180122144,\n",
       " 3514867613,\n",
       " 6430492805,\n",
       " 48857541,\n",
       " 818531247,\n",
       " 2299956557,\n",
       " 3622789693,\n",
       " 5782120281,\n",
       " 2299956557,\n",
       " 6430492805,\n",
       " 375590716,\n",
       " 6430492805,\n",
       " 5782120281,\n",
       " 5479922096,\n",
       " 2467270650,\n",
       " 6430492805,\n",
       " 818531247,\n",
       " 3161924043,\n",
       " 6430492805,\n",
       " 3514867613,\n",
       " 7303239381,\n",
       " 818531247,\n",
       " 2299956557,\n",
       " 6430492805,\n",
       " 3622789693,\n",
       " 3973627465,\n",
       " 4648286961,\n",
       " 1005750401,\n",
       " 2299956557,\n",
       " 6430492805,\n",
       " 3514867613,\n",
       " 7303239381,\n",
       " 7180122144,\n",
       " 5479922096,\n",
       " 6430492805,\n",
       " 7394821408,\n",
       " 7446351721,\n",
       " 6430492805,\n",
       " 6473151310,\n",
       " 3973627465,\n",
       " 564691851,\n",
       " 818531247,\n",
       " 2271289377,\n",
       " 6430492805,\n",
       " 3622789693,\n",
       " 5782120281,\n",
       " 2299956557,\n",
       " 6430492805,\n",
       " 2271289377,\n",
       " 3973627465,\n",
       " 4648286961,\n",
       " 4648286961,\n",
       " 7180122144,\n",
       " 2271289377,\n",
       " 3514867613,\n",
       " 2176936096,\n",
       " 2176936096,\n",
       " 2176936096,\n",
       " 3329308776,\n",
       " 3329308776,\n",
       " 6430492805,\n",
       " 3125782613,\n",
       " 5544845378,\n",
       " 6893571174]"
      ]
     },
     "execution_count": 27,
     "metadata": {},
     "output_type": "execute_result"
    }
   ],
   "source": [
    "cipher"
   ]
  },
  {
   "cell_type": "code",
   "execution_count": 28,
   "metadata": {},
   "outputs": [
    {
     "data": {
      "text/plain": [
       "['M',\n",
       " 'y',\n",
       " ' ',\n",
       " 'n',\n",
       " 'a',\n",
       " 'm',\n",
       " 'e',\n",
       " ' ',\n",
       " 'i',\n",
       " 's',\n",
       " ' ',\n",
       " 'S',\n",
       " 'h',\n",
       " 'r',\n",
       " 'i',\n",
       " 'j',\n",
       " 'e',\n",
       " 'e',\n",
       " 't',\n",
       " ' ',\n",
       " 'B',\n",
       " 'i',\n",
       " 's',\n",
       " 'w',\n",
       " 'a',\n",
       " 's',\n",
       " ' ',\n",
       " ',',\n",
       " ' ',\n",
       " 'a',\n",
       " 'n',\n",
       " 'd',\n",
       " ' ',\n",
       " 'i',\n",
       " 'f',\n",
       " ' ',\n",
       " 't',\n",
       " 'h',\n",
       " 'i',\n",
       " 's',\n",
       " ' ',\n",
       " 'w',\n",
       " 'o',\n",
       " 'r',\n",
       " 'k',\n",
       " 's',\n",
       " ' ',\n",
       " 't',\n",
       " 'h',\n",
       " 'e',\n",
       " 'n',\n",
       " ' ',\n",
       " 'm',\n",
       " 'y',\n",
       " ' ',\n",
       " 'l',\n",
       " 'o',\n",
       " 'g',\n",
       " 'i',\n",
       " 'c',\n",
       " ' ',\n",
       " 'w',\n",
       " 'a',\n",
       " 's',\n",
       " ' ',\n",
       " 'c',\n",
       " 'o',\n",
       " 'r',\n",
       " 'r',\n",
       " 'e',\n",
       " 'c',\n",
       " 't',\n",
       " '.',\n",
       " '.',\n",
       " '.',\n",
       " '!',\n",
       " '!',\n",
       " ' ',\n",
       " ';',\n",
       " '-',\n",
       " ')']"
      ]
     },
     "execution_count": 28,
     "metadata": {},
     "output_type": "execute_result"
    }
   ],
   "source": [
    "plain = []\n",
    "for i in cipher:\n",
    "    p = chr(decrypt(i,public,private))\n",
    "    plain.append(p)\n",
    "plain"
   ]
  },
  {
   "cell_type": "code",
   "execution_count": 29,
   "metadata": {},
   "outputs": [
    {
     "data": {
      "text/plain": [
       "'My name is Shrijeet Biswas , and if this works then my logic was correct...!! ;-)'"
      ]
     },
     "execution_count": 29,
     "metadata": {},
     "output_type": "execute_result"
    }
   ],
   "source": [
    "PTExt = ''.join([str(elem) for elem in plain])\n",
    "PTExt"
   ]
  },
  {
   "cell_type": "code",
   "execution_count": null,
   "metadata": {},
   "outputs": [],
   "source": []
  },
  {
   "cell_type": "code",
   "execution_count": null,
   "metadata": {},
   "outputs": [],
   "source": []
  },
  {
   "cell_type": "code",
   "execution_count": null,
   "metadata": {},
   "outputs": [],
   "source": []
  },
  {
   "cell_type": "code",
   "execution_count": null,
   "metadata": {},
   "outputs": [],
   "source": []
  },
  {
   "cell_type": "code",
   "execution_count": null,
   "metadata": {},
   "outputs": [],
   "source": []
  },
  {
   "cell_type": "code",
   "execution_count": null,
   "metadata": {},
   "outputs": [],
   "source": []
  },
  {
   "cell_type": "markdown",
   "metadata": {},
   "source": [
    "# RSA Encrpytion and Decryption of data from a text file"
   ]
  },
  {
   "cell_type": "markdown",
   "metadata": {},
   "source": [
    "# Read a file and covert to string:\n",
    "    "
   ]
  },
  {
   "cell_type": "code",
   "execution_count": 30,
   "metadata": {},
   "outputs": [],
   "source": [
    "def createPlainText():\n",
    "    s = input(\"Enter your message :\\n\")\n",
    "    text_file = open(\"Plaintext.txt\", \"wt\")\n",
    "    n = text_file.write(s)\n",
    "    text_file.close()\n",
    "    \n",
    "    print(\"\\nMessage exported to working directory as 'Plaintext.txt'\\n\")"
   ]
  },
  {
   "cell_type": "code",
   "execution_count": 31,
   "metadata": {},
   "outputs": [],
   "source": [
    "def readFile(filename):\n",
    "    lines = []\n",
    "    with open(filename) as f:\n",
    "        lines = f.readlines()\n",
    "        \n",
    "    String = ''.join([str(elem) for elem in lines])\n",
    "    return String"
   ]
  },
  {
   "cell_type": "markdown",
   "metadata": {},
   "source": [
    "# Encrypt file and save cipher text in working directory"
   ]
  },
  {
   "cell_type": "code",
   "execution_count": 32,
   "metadata": {},
   "outputs": [],
   "source": [
    "def encrytFile(filename,public):\n",
    "    PlainTxt = readFile(filename)\n",
    "    bineq = ''.join(format(ord(i),'08b') for i in PlainTxt)\n",
    "    n = len(bineq)\n",
    "    ptext = []\n",
    "    for i in range(0,n,8):\n",
    "        temp = bineq[i:i+8]\n",
    "        ptext.append(temp)\n",
    "        \n",
    "    cipher = []\n",
    "    for i in ptext:\n",
    "        c = encrypt(int(i,2),public)\n",
    "        cipher.append(c)\n",
    "        \n",
    "    cipherText = ''.join([str(elem) for elem in cipher])\n",
    "    \n",
    "    text_file = open(\"cipher.txt\", \"wt\")\n",
    "    for item in cipher:\n",
    "        n = text_file.write(str(str(item)+\"\\n\"))\n",
    "    text_file.close()\n",
    "    \n",
    "    print(\"\\nEncrypting the message...\\nGenerating the cipher...\")\n",
    "    print(\"\\nEncryption complete...\\nCipher Text exported to Working Directory...\\n\")\n",
    "    \n",
    "    print(\"\\nDisplaying the Encrypted message : {}\".format(cipherText))\n",
    "    \n",
    "    return cipher"
   ]
  },
  {
   "cell_type": "markdown",
   "metadata": {},
   "source": [
    "# Decrpyt file and save the recovered text in working directory"
   ]
  },
  {
   "cell_type": "code",
   "execution_count": 33,
   "metadata": {},
   "outputs": [],
   "source": [
    "def decryptFile(cipher,public,private):\n",
    "    c = readFile(cipher)\n",
    "    c = c.splitlines()\n",
    "    cipher = [int(i) for i in c]\n",
    "    \n",
    "    plain = []\n",
    "    for i in cipher:\n",
    "        p = chr(decrypt(i,public,private))\n",
    "        plain.append(p)\n",
    "        \n",
    "    PTExt = ''.join([str(elem) for elem in plain])\n",
    "    \n",
    "    text_file = open(\"recoverd_message.txt\", \"wt\")\n",
    "    n = text_file.write(PTExt)\n",
    "    text_file.close()\n",
    "    \n",
    "    print(\"\\nDecryption Complete...\\nOriginal Message exported to the working Directory..\")\n",
    "    print(\"\\nDisplaying the recovered message...\\n\\n\")\n",
    "    print(PTExt)"
   ]
  },
  {
   "cell_type": "code",
   "execution_count": null,
   "metadata": {},
   "outputs": [],
   "source": []
  },
  {
   "cell_type": "markdown",
   "metadata": {},
   "source": [
    "# Demonstrsation"
   ]
  },
  {
   "cell_type": "code",
   "execution_count": 34,
   "metadata": {},
   "outputs": [
    {
     "name": "stdout",
     "output_type": "stream",
     "text": [
      "Enter your message :\n",
      "My name is shrijeet Biswas. this is my version of RSA cryptosystem. this can work for moderately large prime numbers and plain text of any length , although i have not yet tested the complete limitations of this code in terms of length of plain text. lastly except for time and random no other libraries were used to implement this program. Hopefully this plain text  is long enough for the trial. \n",
      "\n",
      "Message exported to working directory as 'Plaintext.txt'\n",
      "\n"
     ]
    }
   ],
   "source": [
    "createPlainText()"
   ]
  },
  {
   "cell_type": "code",
   "execution_count": 35,
   "metadata": {},
   "outputs": [
    {
     "name": "stdout",
     "output_type": "stream",
     "text": [
      "\n",
      "Encrypting the message...\n",
      "Generating the cipher...\n",
      "\n",
      "Encryption complete...\n",
      "Cipher Text exported to Working Directory...\n",
      "\n",
      "\n",
      "Displaying the Encrypted message : 14412191437446351721643049280554799220965782120281739482140871801221446430492805818531247229995655764304928052299956557730323938146482869618185312474515427225718012214471801221443514867613643049280548857541818531247229995655736227896935782120281229995655721769360966430492805351486761373032393818185312472299956557643049280581853124722999565576430492805739482140874463517216430492805426107709571801221444648286961229995655781853124739736274655479922096643049280539736274653161924043643049280575363397252312990188402567278064304928052271289377464828696174463517212602989184351486761339736274652299956557744635172122999565573514867613718012214473948214082176936096643049280535148676137303239381818531247229995655764304928052271289377578212028154799220966430492805362278969339736274654648286961100575040164304928053161924043397362746546482869616430492805739482140839736274652467270650718012214446482869615782120281351486761371801221446473151310744635172164304928056473151310578212028146482869615646918517180122144643049280526029891844648286961818531247739482140871801221446430492805547992209673502706117394821408665401837171801221444648286961229995655764304928055782120281547992209624672706506430492805260298918464731513105782120281818531247547992209664304928053514867613718012214499220836935148676136430492805397362746531619240436430492805578212028154799220967446351721643049280564731513107180122144547992209656469185135148676137303239381643049280537559071664304928055782120281647315131035148676137303239381397362746573502706115646918517303239381643049280581853124764304928057303239381578212028142610770957180122144643049280554799220963973627465351486761364304928057446351721718012214435148676136430492805351486761371801221442299956557351486761371801221442467270650643049280535148676137303239381718012214464304928052271289377397362746573948214082602989184647315131071801221443514867613718012214464304928056473151310818531247739482140881853124735148676135782120281351486761381853124739736274655479922096229995655764304928053973627465316192404364304928053514867613730323938181853124722999565576430492805227128937739736274652467270650718012214464304928058185312475479922096643049280535148676137180122144464828696173948214082299956557643049280539736274653161924043643049280564731513107180122144547992209656469185135148676137303239381643049280539736274653161924043643049280526029891846473151310578212028181853124754799220966430492805351486761371801221449922083693514867613217693609664304928056473151310578212028122999565573514867613647315131074463517216430492805718012214499220836922712893777180122144260298918435148676136430492805316192404339736274654648286961643049280535148676138185312477394821408718012214464304928055782120281547992209624672706506430492805464828696157821202815479922096246727065039736274657394821408643049280554799220963973627465643049280539736274653514867613730323938171801221444648286961643049280564731513108185312476654018371464828696157821202814648286961818531247718012214422999565576430492805362278969371801221444648286961718012214464304928057350270611229995655771801221442467270650643049280535148676133973627465643049280581853124773948214082602989184647315131071801221447394821408718012214454799220963514867613643049280535148676137303239381818531247229995655764304928052602989184464828696139736274655646918514648286961578212028173948214082176936096643049280542632048693973627465260298918471801221443161924043735027061164731513106473151310744635172164304928053514867613730323938181853124722999565576430492805260298918464731513105782120281818531247547992209664304928053514867613718012214499220836935148676136430492805643049280581853124722999565576430492805647315131039736274655479922096564691851643049280571801221445479922096397362746573502706115646918517303239381643049280531619240433973627465464828696164304928053514867613730323938171801221446430492805351486761346482869618185312475782120281647315131021769360966430492805\n"
     ]
    }
   ],
   "source": [
    "cipherText = encrytFile('Plaintext.txt',public)"
   ]
  },
  {
   "cell_type": "code",
   "execution_count": 36,
   "metadata": {},
   "outputs": [
    {
     "name": "stdout",
     "output_type": "stream",
     "text": [
      "\n",
      "Decryption Complete...\n",
      "Original Message exported to the working Directory..\n",
      "\n",
      "Displaying the recovered message...\n",
      "\n",
      "\n",
      "My name is shrijeet Biswas. this is my version of RSA cryptosystem. this can work for moderately large prime numbers and plain text of any length , although i have not yet tested the complete limitations of this code in terms of length of plain text. lastly except for time and random no other libraries were used to implement this program. Hopefully this plain text  is long enough for the trial. \n"
     ]
    }
   ],
   "source": [
    "decryptFile('cipher.txt',public,private)"
   ]
  },
  {
   "cell_type": "code",
   "execution_count": null,
   "metadata": {},
   "outputs": [],
   "source": []
  }
 ],
 "metadata": {
  "kernelspec": {
   "display_name": "Python 3",
   "language": "python",
   "name": "python3"
  },
  "language_info": {
   "codemirror_mode": {
    "name": "ipython",
    "version": 3
   },
   "file_extension": ".py",
   "mimetype": "text/x-python",
   "name": "python",
   "nbconvert_exporter": "python",
   "pygments_lexer": "ipython3",
   "version": "3.6.5"
  }
 },
 "nbformat": 4,
 "nbformat_minor": 2
}
