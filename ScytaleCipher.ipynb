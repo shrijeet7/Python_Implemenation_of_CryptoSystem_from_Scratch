{
 "cells": [
  {
   "cell_type": "code",
   "execution_count": 1,
   "metadata": {},
   "outputs": [],
   "source": [
    "import math\n",
    "import numpy as np"
   ]
  },
  {
   "cell_type": "markdown",
   "metadata": {},
   "source": [
    "# Internal Workings of the cipher\n",
    "# Rough Work"
   ]
  },
  {
   "cell_type": "code",
   "execution_count": 2,
   "metadata": {},
   "outputs": [
    {
     "name": "stdout",
     "output_type": "stream",
     "text": [
      "enter plain text :abcd12345trdfdg\n",
      "Enter key Size :10\n"
     ]
    }
   ],
   "source": [
    "s = input(\"enter plain text :\")\n",
    "k = int(input(\"Enter key Size :\"))"
   ]
  },
  {
   "cell_type": "code",
   "execution_count": 3,
   "metadata": {},
   "outputs": [],
   "source": [
    "rows =  math.ceil(len(s)/k)\n",
    "cols = k"
   ]
  },
  {
   "cell_type": "code",
   "execution_count": 4,
   "metadata": {},
   "outputs": [
    {
     "data": {
      "text/plain": [
       "10"
      ]
     },
     "execution_count": 4,
     "metadata": {},
     "output_type": "execute_result"
    }
   ],
   "source": [
    "cols"
   ]
  },
  {
   "cell_type": "markdown",
   "metadata": {},
   "source": [
    "# Convert to a 2-D list"
   ]
  },
  {
   "cell_type": "code",
   "execution_count": 5,
   "metadata": {},
   "outputs": [
    {
     "name": "stdout",
     "output_type": "stream",
     "text": [
      "ab\n",
      "cd\n",
      "12\n",
      "34\n",
      "5t\n",
      "rd\n",
      "fd\n",
      "g\n"
     ]
    }
   ],
   "source": [
    "final = []\n",
    "for i in range(len(s)):\n",
    "    if i % rows == 0:\n",
    "        sub = s[i:i+rows]  # rows for encryption, cols for decryption\n",
    "        print(sub)\n",
    "        lst = []\n",
    "        for j in sub:\n",
    "            lst.append(j)\n",
    "        \n",
    "        final.append(lst)"
   ]
  },
  {
   "cell_type": "code",
   "execution_count": 6,
   "metadata": {},
   "outputs": [
    {
     "data": {
      "text/plain": [
       "[['a', 'b'],\n",
       " ['c', 'd'],\n",
       " ['1', '2'],\n",
       " ['3', '4'],\n",
       " ['5', 't'],\n",
       " ['r', 'd'],\n",
       " ['f', 'd'],\n",
       " ['g']]"
      ]
     },
     "execution_count": 6,
     "metadata": {},
     "output_type": "execute_result"
    }
   ],
   "source": [
    "final"
   ]
  },
  {
   "cell_type": "markdown",
   "metadata": {},
   "source": [
    "# Make sure each sublist has equal number of elements \n",
    "# (Convert to m X m 2-D list)"
   ]
  },
  {
   "cell_type": "code",
   "execution_count": 7,
   "metadata": {},
   "outputs": [],
   "source": [
    "d= len(final[0])-len(final[len(final)-1])\n",
    "while d>0:\n",
    "    final[len(final)-1].append(' ')\n",
    "    d-=1"
   ]
  },
  {
   "cell_type": "code",
   "execution_count": 8,
   "metadata": {},
   "outputs": [
    {
     "data": {
      "text/plain": [
       "[['a', 'b'],\n",
       " ['c', 'd'],\n",
       " ['1', '2'],\n",
       " ['3', '4'],\n",
       " ['5', 't'],\n",
       " ['r', 'd'],\n",
       " ['f', 'd'],\n",
       " ['g', ' ']]"
      ]
     },
     "execution_count": 8,
     "metadata": {},
     "output_type": "execute_result"
    }
   ],
   "source": [
    "final"
   ]
  },
  {
   "cell_type": "markdown",
   "metadata": {},
   "source": [
    "# convert List to Char array"
   ]
  },
  {
   "cell_type": "code",
   "execution_count": 9,
   "metadata": {},
   "outputs": [
    {
     "data": {
      "text/plain": [
       "chararray([['a', 'b'],\n",
       "           ['c', 'd'],\n",
       "           ['1', '2'],\n",
       "           ['3', '4'],\n",
       "           ['5', 't'],\n",
       "           ['r', 'd'],\n",
       "           ['f', 'd'],\n",
       "           ['g', '']], dtype='<U1')"
      ]
     },
     "execution_count": 9,
     "metadata": {},
     "output_type": "execute_result"
    }
   ],
   "source": [
    "g =np.char.asarray(final)\n",
    "g"
   ]
  },
  {
   "cell_type": "markdown",
   "metadata": {},
   "source": [
    "# To Encrypt simply transpose and read as 1-D array"
   ]
  },
  {
   "cell_type": "code",
   "execution_count": 10,
   "metadata": {},
   "outputs": [],
   "source": [
    "h=g.transpose()"
   ]
  },
  {
   "cell_type": "code",
   "execution_count": 11,
   "metadata": {},
   "outputs": [
    {
     "data": {
      "text/plain": [
       "chararray([['a', 'c', '1', '3', '5', 'r', 'f', 'g'],\n",
       "           ['b', 'd', '2', '4', 't', 'd', 'd', '']], dtype='<U1')"
      ]
     },
     "execution_count": 11,
     "metadata": {},
     "output_type": "execute_result"
    }
   ],
   "source": [
    "h"
   ]
  },
  {
   "cell_type": "code",
   "execution_count": 12,
   "metadata": {},
   "outputs": [
    {
     "data": {
      "text/plain": [
       "chararray(['a', 'c', '1', '3', '5', 'r', 'f', 'g', 'b', 'd', '2', '4',\n",
       "           't', 'd', 'd', ''], dtype='<U1')"
      ]
     },
     "execution_count": 12,
     "metadata": {},
     "output_type": "execute_result"
    }
   ],
   "source": [
    "h.flatten()"
   ]
  },
  {
   "cell_type": "markdown",
   "metadata": {},
   "source": [
    "# Join array elements into a single string"
   ]
  },
  {
   "cell_type": "code",
   "execution_count": 13,
   "metadata": {},
   "outputs": [],
   "source": [
    "def combineCharsToString(s):\n",
    "    new = \"\"\n",
    "    for x in s:\n",
    "        if x =='':\n",
    "            x = ' '\n",
    "        new += x \n",
    "        \n",
    "    return new"
   ]
  },
  {
   "cell_type": "code",
   "execution_count": 14,
   "metadata": {},
   "outputs": [],
   "source": [
    "cipher = combineCharsToString(h.flatten())"
   ]
  },
  {
   "cell_type": "code",
   "execution_count": 15,
   "metadata": {},
   "outputs": [
    {
     "data": {
      "text/plain": [
       "'ac135rfgbd24tdd '"
      ]
     },
     "execution_count": 15,
     "metadata": {},
     "output_type": "execute_result"
    }
   ],
   "source": [
    "cipher"
   ]
  },
  {
   "cell_type": "code",
   "execution_count": null,
   "metadata": {},
   "outputs": [],
   "source": []
  },
  {
   "cell_type": "markdown",
   "metadata": {},
   "source": [
    "# Scytale Cipher"
   ]
  },
  {
   "cell_type": "markdown",
   "metadata": {},
   "source": [
    "# Function for combining a list of charecters into a single string"
   ]
  },
  {
   "cell_type": "code",
   "execution_count": 16,
   "metadata": {},
   "outputs": [],
   "source": [
    "def combineCharsToString(s):\n",
    "    new = \"\"\n",
    "    for x in s:\n",
    "        if x =='':\n",
    "            x = ' '\n",
    "        new += x \n",
    "        \n",
    "    return new"
   ]
  },
  {
   "cell_type": "markdown",
   "metadata": {},
   "source": [
    "# Function for Accepting key value and Message from User"
   ]
  },
  {
   "cell_type": "code",
   "execution_count": 17,
   "metadata": {},
   "outputs": [],
   "source": [
    "def accept():\n",
    "    plaintext = input(\"Enter Message : \")\n",
    "    key = int(input(\"Enter Diameter (key) :\"))\n",
    "    return plaintext,key"
   ]
  },
  {
   "cell_type": "markdown",
   "metadata": {},
   "source": [
    "# Encryption Function \n",
    "    \n",
    "        To convert Message or Plain text into Cipher text"
   ]
  },
  {
   "cell_type": "code",
   "execution_count": 18,
   "metadata": {},
   "outputs": [],
   "source": [
    "def encrypt(plaintext,key):\n",
    "    rows =  math.ceil(len(plaintext)/key)\n",
    "    cols = key\n",
    "    print(\"\\n\\nRunning Encryption algorithm on the message . . . \\n\")\n",
    "    final = []\n",
    "    for i in range(len(plaintext)):\n",
    "        if i % rows == 0:\n",
    "            sub = plaintext[i:i+rows]\n",
    "            lst = []\n",
    "            for j in sub:\n",
    "                lst.append(j)\n",
    "\n",
    "            final.append(lst)\n",
    "            \n",
    "    d= len(final[0])-len(final[len(final)-1])\n",
    "    while d>0:\n",
    "        final[len(final)-1].append(' ')\n",
    "        d-=1\n",
    "    \n",
    "    g = np.char.asarray(final)\n",
    "    g = g.transpose()\n",
    "    g = g.flatten()\n",
    "    \n",
    "    ciphertext = combineCharsToString(g)\n",
    "    \n",
    "    print(\"Encryption Complete.\\nCiphter text generated. . .\")\n",
    "    \n",
    "    return ciphertext"
   ]
  },
  {
   "cell_type": "markdown",
   "metadata": {},
   "source": [
    "# Decryption Function\n",
    "    \n",
    "    To convert Message or Plain text into Cipher text"
   ]
  },
  {
   "cell_type": "code",
   "execution_count": 19,
   "metadata": {},
   "outputs": [],
   "source": [
    "def decrypt(ciphertext,key):\n",
    "    rows =  math.ceil(len(ciphertext)/key)\n",
    "    cols = key\n",
    "    print(\"Running Decryption algorithm on the cipher text . . . \\n\")\n",
    "    final = []\n",
    "    for i in range(len(ciphertext)):\n",
    "        if i % cols == 0:\n",
    "            sub = ciphertext[i:i+cols]\n",
    "            lst = []\n",
    "            for j in sub:\n",
    "                lst.append(j)\n",
    "\n",
    "            final.append(lst)\n",
    "            \n",
    "    d= len(final[0])-len(final[len(final)-1])\n",
    "    while d>0:\n",
    "        final[len(final)-1].append(' ')\n",
    "        d-=1\n",
    "    \n",
    "    g = np.char.asarray(final)\n",
    "    g = g.transpose()\n",
    "    g = g .flatten()\n",
    "    \n",
    "    plaintext = combineCharsToString(g)\n",
    "    \n",
    "    print(\"Decryption Complete.\\nOriginal message recovered. . .\")\n",
    "    \n",
    "    return plaintext"
   ]
  },
  {
   "cell_type": "markdown",
   "metadata": {},
   "source": [
    "# Accepting value and Encrypting them into cipher text"
   ]
  },
  {
   "cell_type": "code",
   "execution_count": 20,
   "metadata": {},
   "outputs": [
    {
     "name": "stdout",
     "output_type": "stream",
     "text": [
      "Enter Message : This is My VeRsion of Scytale ciPHER 13425!\n",
      "Enter Diameter (key) :4\n",
      "\n",
      "\n",
      "Running Encryption algorithm on the message . . . \n",
      "\n",
      "Encryption Complete.\n",
      "Ciphter text generated. . .\n",
      "\n",
      "\n",
      "Cipher Text = TVSHhecEiRyRsst  ia1iol3sne4   2Moc5yfi!  P \n"
     ]
    }
   ],
   "source": [
    "plaintext,key = accept()\n",
    "\n",
    "ciphertext = encrypt(plaintext,key)\n",
    "print(\"\\n\\nCipher Text = {}\".format(ciphertext))"
   ]
  },
  {
   "cell_type": "markdown",
   "metadata": {},
   "source": [
    "# Decrpyting and getting back the original plain text from cipher text"
   ]
  },
  {
   "cell_type": "code",
   "execution_count": 21,
   "metadata": {},
   "outputs": [
    {
     "name": "stdout",
     "output_type": "stream",
     "text": [
      "Running Decryption algorithm on the cipher text . . . \n",
      "\n",
      "Decryption Complete.\n",
      "Original message recovered. . .\n",
      "\n",
      "\n",
      "Original Message = This is My VeRsion of Scytale ciPHER 13425! \n"
     ]
    }
   ],
   "source": [
    "PlainText = decrypt(ciphertext,key)\n",
    "print(\"\\n\\nOriginal Message = {}\".format(PlainText))"
   ]
  },
  {
   "cell_type": "markdown",
   "metadata": {},
   "source": [
    "# Attack based on Guessing the diameter (key)"
   ]
  },
  {
   "cell_type": "code",
   "execution_count": 22,
   "metadata": {},
   "outputs": [],
   "source": [
    "def attack(ciphertext):\n",
    "    \n",
    "    diameter = int(input(\"\\nEnter an estimation of max possible charecter between two consecutive letter : \"))\n",
    "    \n",
    "    \n",
    "    print(\"Starting attack on the cipher text...\\n\")\n",
    "    \n",
    "    for c in range(1,diameter+1):\n",
    "        final = []\n",
    "        for i in range(len(ciphertext)):\n",
    "            if i % c == 0:\n",
    "                sub = ciphertext[i:i+c]\n",
    "                \n",
    "                lst = []\n",
    "                for j in sub:\n",
    "                    lst.append(j)\n",
    "\n",
    "                final.append(lst)\n",
    "\n",
    "        d= len(final[0])-len(final[len(final)-1])\n",
    "        while d>0:\n",
    "            final[len(final)-1].append(' ')\n",
    "            d-=1\n",
    "       \n",
    "        g = np.char.asarray(final)\n",
    "        g = g.transpose()\n",
    "        g = g .flatten()\n",
    "\n",
    "        plaintext = combineCharsToString(g)\n",
    "    \n",
    "        print(\"\\n\\nAssuming max possible charecters between two consecutive letter is {}\\nprobable Plain Text = {}\".format(c,plaintext))\n",
    "    "
   ]
  },
  {
   "cell_type": "code",
   "execution_count": 23,
   "metadata": {},
   "outputs": [
    {
     "name": "stdout",
     "output_type": "stream",
     "text": [
      "\n",
      "Enter an estimation of max possible charecter between two consecutive letter : 10\n",
      "Starting attack on the cipher text...\n",
      "\n",
      "\n",
      "\n",
      "Assuming max possible charecters between two consecutive letter is 1\n",
      "probable Plain Text = TVSHhecEiRyRsst  ia1iol3sne4   2Moc5yfi!  P \n",
      "\n",
      "\n",
      "Assuming max possible charecters between two consecutive letter is 2\n",
      "probable Plain Text = TShciyst ailse  Mcyi PVHeERRs i1o3n4 2o5f!  \n",
      "\n",
      "\n",
      "Assuming max possible charecters between two consecutive letter is 3\n",
      "probable Plain Text = THcRs aos4 oy!PVhEys 1ln 2cf  SeiRtii3e M5i  \n",
      "\n",
      "\n",
      "Assuming max possible charecters between two consecutive letter is 4\n",
      "probable Plain Text = This is My VeRsion of Scytale ciPHER 13425! \n",
      "\n",
      "\n",
      "Assuming max possible charecters between two consecutive letter is 5\n",
      "probable Plain Text = Tey in 5 VcR oe2y SEsil4MfPHisa3 oi hRt1s c! \n",
      "\n",
      "\n",
      "Assuming max possible charecters between two consecutive letter is 6\n",
      "probable Plain Text = Tcsas yPVEs1n2f SitieMi HR o4o! hy l c  eRi3 5  \n",
      "\n",
      "\n",
      "Assuming max possible charecters between two consecutive letter is 7\n",
      "probable Plain Text = TEto 5PVi l y SR 3 f Hyis2i hRanM! es1eo  csi4c  \n",
      "\n",
      "\n",
      "Assuming max possible charecters between two consecutive letter is 8\n",
      "probable Plain Text = Ti sM VRino SyaecPHR145 hsi y eso f ctl i E 32! \n",
      "\n",
      "\n",
      "Assuming max possible charecters between two consecutive letter is 9\n",
      "probable Plain Text = TRa4yVy1 fSRi iHso !hsl2 et3M c soPE nc iie5 \n",
      "\n",
      "\n",
      "Assuming max possible charecters between two consecutive letter is 10\n",
      "probable Plain Text = Tyi  VRo2 SslMPHs3o htsc e n5 c ey Ei4f ia i R1 ! \n"
     ]
    }
   ],
   "source": [
    "attack(ciphertext)"
   ]
  },
  {
   "cell_type": "code",
   "execution_count": null,
   "metadata": {},
   "outputs": [],
   "source": []
  }
 ],
 "metadata": {
  "kernelspec": {
   "display_name": "Python 3",
   "language": "python",
   "name": "python3"
  },
  "language_info": {
   "codemirror_mode": {
    "name": "ipython",
    "version": 3
   },
   "file_extension": ".py",
   "mimetype": "text/x-python",
   "name": "python",
   "nbconvert_exporter": "python",
   "pygments_lexer": "ipython3",
   "version": "3.6.5"
  }
 },
 "nbformat": 4,
 "nbformat_minor": 2
}
