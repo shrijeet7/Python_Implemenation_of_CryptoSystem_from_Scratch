{
 "cells": [
  {
   "cell_type": "markdown",
   "metadata": {},
   "source": [
    "# Test space"
   ]
  },
  {
   "cell_type": "code",
   "execution_count": 1,
   "metadata": {},
   "outputs": [
    {
     "name": "stdout",
     "output_type": "stream",
     "text": [
      "65 90\n"
     ]
    }
   ],
   "source": [
    "print(ord('A'),ord('Z'))"
   ]
  },
  {
   "cell_type": "code",
   "execution_count": 2,
   "metadata": {},
   "outputs": [
    {
     "name": "stdout",
     "output_type": "stream",
     "text": [
      "97 122\n"
     ]
    }
   ],
   "source": [
    "print(ord('a'),ord('z'))"
   ]
  },
  {
   "cell_type": "code",
   "execution_count": 3,
   "metadata": {},
   "outputs": [
    {
     "name": "stdout",
     "output_type": "stream",
     "text": [
      "48 57\n"
     ]
    }
   ],
   "source": [
    "print(ord('0'),ord('9'))"
   ]
  },
  {
   "cell_type": "code",
   "execution_count": 4,
   "metadata": {},
   "outputs": [
    {
     "data": {
      "text/plain": [
       "19"
      ]
     },
     "execution_count": 4,
     "metadata": {},
     "output_type": "execute_result"
    }
   ],
   "source": [
    "abs(-19)"
   ]
  },
  {
   "cell_type": "code",
   "execution_count": 5,
   "metadata": {},
   "outputs": [
    {
     "data": {
      "text/plain": [
       "'d'"
      ]
     },
     "execution_count": 5,
     "metadata": {},
     "output_type": "execute_result"
    }
   ],
   "source": [
    "chr(100)"
   ]
  },
  {
   "cell_type": "markdown",
   "metadata": {},
   "source": [
    "# now shift 'd' to 'j' so shift by 6"
   ]
  },
  {
   "cell_type": "code",
   "execution_count": 6,
   "metadata": {},
   "outputs": [
    {
     "data": {
      "text/plain": [
       "'j'"
      ]
     },
     "execution_count": 6,
     "metadata": {},
     "output_type": "execute_result"
    }
   ],
   "source": [
    "chr(  ( ( (100 - 97) + 6 ) % 26) + 97  )"
   ]
  },
  {
   "cell_type": "code",
   "execution_count": 7,
   "metadata": {},
   "outputs": [
    {
     "data": {
      "text/plain": [
       "'j'"
      ]
     },
     "execution_count": 7,
     "metadata": {},
     "output_type": "execute_result"
    }
   ],
   "source": [
    "char = 'd'\n",
    "key = 6\n",
    "shifted = chr(  ( ( (ord(char) - ord('a')) + key ) % 26) + ord('a')  )\n",
    "shifted"
   ]
  },
  {
   "cell_type": "code",
   "execution_count": 8,
   "metadata": {},
   "outputs": [
    {
     "data": {
      "text/plain": [
       "'Y'"
      ]
     },
     "execution_count": 8,
     "metadata": {},
     "output_type": "execute_result"
    }
   ],
   "source": [
    "char = 'S'\n",
    "key = 6\n",
    "shifted = chr(  ( ( (ord(char) - ord('A')) + key ) % 26) + ord('A')  )\n",
    "shifted"
   ]
  },
  {
   "cell_type": "markdown",
   "metadata": {},
   "source": [
    "        for decrypting instead of adding the shift value add the additive inverse of the shift value\n",
    "        if we consider (Z26 , +) as a group the for each element 'a' in Z26 there must exist an \n",
    "        element 'a~' such that for each 'a' : a + a~ = e where e is the identity element here e = '0'"
   ]
  },
  {
   "cell_type": "code",
   "execution_count": 9,
   "metadata": {},
   "outputs": [
    {
     "data": {
      "text/plain": [
       "'S'"
      ]
     },
     "execution_count": 9,
     "metadata": {},
     "output_type": "execute_result"
    }
   ],
   "source": [
    "char = 'Y'\n",
    "key = 6\n",
    "shifted = chr(  ( ( (ord(char) - ord('A')) + (26-key) ) % 26) + ord('A')  )\n",
    "shifted"
   ]
  },
  {
   "cell_type": "code",
   "execution_count": null,
   "metadata": {},
   "outputs": [],
   "source": []
  },
  {
   "cell_type": "markdown",
   "metadata": {},
   "source": [
    "# Ceaser's Cipher"
   ]
  },
  {
   "cell_type": "markdown",
   "metadata": {},
   "source": [
    "# Function to accept plaintext and key value"
   ]
  },
  {
   "cell_type": "code",
   "execution_count": 10,
   "metadata": {},
   "outputs": [],
   "source": [
    "def accept():\n",
    "    plaintext = input(\"\\nEnter Message : \")\n",
    "    key = int(input(\"\\nEnter key :\"))\n",
    "    return plaintext,key"
   ]
  },
  {
   "cell_type": "markdown",
   "metadata": {},
   "source": [
    "# Encryption Function:"
   ]
  },
  {
   "cell_type": "code",
   "execution_count": 11,
   "metadata": {},
   "outputs": [],
   "source": [
    "def encrypt(string,key):\n",
    "    plaintext=string\n",
    "    ciphertext=''\n",
    "    print(\"\\n\\nRunning Encryption algorithm on the message . . . \\n\")\n",
    "    \n",
    "    for i in plaintext:\n",
    "#         print(i,ord(i))\n",
    "        if i == ' ':\n",
    "            ciphertext+=i\n",
    "            \n",
    "        elif ord(i)>=97 and ord(i)<=122:\n",
    "            d = chr(  ( ( (ord(i) - ord('a')) + key ) % 26) + ord('a')  )\n",
    "            ciphertext+=d\n",
    "            \n",
    "        elif ord(i)>=65 and ord(i)<=90:\n",
    "            d = chr(  ( ( (ord(i) - ord('A')) + key ) % 26) + ord('A')  )\n",
    "            ciphertext+=d\n",
    "        \n",
    "        elif ord(i)>=48 and ord(i)<=57:\n",
    "            d = chr(  ( ( (ord(i) - ord('0')) + abs((10-key)) ) % 10) + ord('0')  )\n",
    "            ciphertext+=d\n",
    "            \n",
    "        else:\n",
    "            print(\"\\nMessage Conatins Invalid charecters...\\nPlease limit the charecters to <space> , a-z , A-Z ,0-9 only.\\nTry again with new message\")\n",
    "            return None\n",
    "        \n",
    "    print(\"Encryption Complete.\\nCiphter text generated. . .\")    \n",
    "    return ciphertext"
   ]
  },
  {
   "cell_type": "markdown",
   "metadata": {},
   "source": [
    "# Decryption Function"
   ]
  },
  {
   "cell_type": "code",
   "execution_count": 12,
   "metadata": {},
   "outputs": [],
   "source": [
    "def decrypt(string,key):\n",
    "    ciphertext=string\n",
    "    plaintext=''\n",
    "    print(\"Running Decryption algorithm on the cipher text . . . \\n\")\n",
    "    \n",
    "    for i in ciphertext:\n",
    "#         print(i,ord(i))\n",
    "        if i == ' ':\n",
    "            plaintext+=i\n",
    "            \n",
    "        elif ord(i)>=97 and ord(i)<=122:\n",
    "            d = chr(  ( ( (ord(i) - ord('a')) + (26- key) ) % 26) + ord('a')  )\n",
    "            plaintext+=d\n",
    "            \n",
    "        elif ord(i)>=65 and ord(i)<=90:\n",
    "            d = chr(  ( ( (ord(i) - ord('A')) + (26-key) ) % 26) + ord('A')  )\n",
    "            plaintext+=d\n",
    "            \n",
    "        elif ord(i)>=48 and ord(i)<=57:\n",
    "            d = chr(  ( ( (ord(i) - ord('0')) + (10- abs((10-key))) ) % 10) + ord('0')  )\n",
    "            plaintext+=d\n",
    "            \n",
    "    print(\"Decryption Complete.\\nOriginal message recovered. . .\")\n",
    "    \n",
    "    return plaintext"
   ]
  },
  {
   "cell_type": "markdown",
   "metadata": {},
   "source": [
    "# Encrpytion"
   ]
  },
  {
   "cell_type": "code",
   "execution_count": 13,
   "metadata": {},
   "outputs": [
    {
     "name": "stdout",
     "output_type": "stream",
     "text": [
      "\n",
      "Enter Message : This is my 1st Version of Ceasers Cipher\n",
      "\n",
      "Enter key :6\n",
      "\n",
      "\n",
      "Running Encryption algorithm on the message . . . \n",
      "\n",
      "Encryption Complete.\n",
      "Ciphter text generated. . .\n",
      "\n",
      "\n",
      "Cipher Text = Znoy oy se 5yz Bkxyout ul Ikgykxy Iovnkx\n"
     ]
    }
   ],
   "source": [
    "ciphertext = None\n",
    "while(True):\n",
    "    if ciphertext == None:\n",
    "        plaintext , key = accept()\n",
    "        ciphertext = encrypt(plaintext,key)\n",
    "        print(\"\\n\\nCipher Text = {}\".format(ciphertext))\n",
    "    else:\n",
    "        break"
   ]
  },
  {
   "cell_type": "markdown",
   "metadata": {},
   "source": [
    "# Decryption"
   ]
  },
  {
   "cell_type": "code",
   "execution_count": 14,
   "metadata": {},
   "outputs": [
    {
     "name": "stdout",
     "output_type": "stream",
     "text": [
      "Running Decryption algorithm on the cipher text . . . \n",
      "\n",
      "Decryption Complete.\n",
      "Original message recovered. . .\n",
      "\n",
      "\n",
      "Original Message = This is my 1st Version of Ceasers Cipher\n"
     ]
    }
   ],
   "source": [
    "PlainText = decrypt(ciphertext,key)\n",
    "print(\"\\n\\nOriginal Message = {}\".format(PlainText))"
   ]
  },
  {
   "cell_type": "markdown",
   "metadata": {},
   "source": [
    "# Attacks based on guessing the key or shift value"
   ]
  },
  {
   "cell_type": "code",
   "execution_count": 15,
   "metadata": {},
   "outputs": [],
   "source": [
    "def attack(ciphertext):\n",
    "    print(\"Starting attack on the cipher text...\\n\")\n",
    "    \n",
    "    for key in range(1,26):\n",
    "        plaintext =''\n",
    "        for i in ciphertext:\n",
    "#         print(i,ord(i))\n",
    "            if i == ' ':\n",
    "                plaintext+=i\n",
    "\n",
    "            elif ord(i)>=97 and ord(i)<=122:\n",
    "                d = chr(  ( ( (ord(i) - ord('a')) + (26- key) ) % 26) + ord('a')  )\n",
    "                plaintext+=d\n",
    "\n",
    "            elif ord(i)>=65 and ord(i)<=90:\n",
    "                d = chr(  ( ( (ord(i) - ord('A')) + (26-key) ) % 26) + ord('A')  )\n",
    "                plaintext+=d\n",
    "                \n",
    "            elif ord(i)>=48 and ord(i)<=57:\n",
    "                d = chr(  ( ( (ord(i) - ord('0')) + (10- abs((10-key))) ) % 10) + ord('0')  )\n",
    "                plaintext+=d\n",
    "            \n",
    "        print(\"\\nProbable message : '{}' : for key value : {} \".format(plaintext,key))\n",
    "        "
   ]
  },
  {
   "cell_type": "code",
   "execution_count": 16,
   "metadata": {},
   "outputs": [
    {
     "name": "stdout",
     "output_type": "stream",
     "text": [
      "Starting attack on the cipher text...\n",
      "\n",
      "\n",
      "Probable message : 'Ymnx nx rd 6xy Ajwxnts tk Hjfxjwx Hnumjw' : for key value : 1 \n",
      "\n",
      "Probable message : 'Xlmw mw qc 7wx Zivwmsr sj Giewivw Gmtliv' : for key value : 2 \n",
      "\n",
      "Probable message : 'Wklv lv pb 8vw Yhuvlrq ri Fhdvhuv Flskhu' : for key value : 3 \n",
      "\n",
      "Probable message : 'Vjku ku oa 9uv Xgtukqp qh Egcugtu Ekrjgt' : for key value : 4 \n",
      "\n",
      "Probable message : 'Uijt jt nz 0tu Wfstjpo pg Dfbtfst Djqifs' : for key value : 5 \n",
      "\n",
      "Probable message : 'This is my 1st Version of Ceasers Cipher' : for key value : 6 \n",
      "\n",
      "Probable message : 'Sghr hr lx 2rs Udqrhnm ne Bdzrdqr Bhogdq' : for key value : 7 \n",
      "\n",
      "Probable message : 'Rfgq gq kw 3qr Tcpqgml md Acyqcpq Agnfcp' : for key value : 8 \n",
      "\n",
      "Probable message : 'Qefp fp jv 4pq Sbopflk lc Zbxpbop Zfmebo' : for key value : 9 \n",
      "\n",
      "Probable message : 'Pdeo eo iu 5op Ranoekj kb Yawoano Yeldan' : for key value : 10 \n",
      "\n",
      "Probable message : 'Ocdn dn ht 4no Qzmndji ja Xzvnzmn Xdkczm' : for key value : 11 \n",
      "\n",
      "Probable message : 'Nbcm cm gs 3mn Pylmcih iz Wyumylm Wcjbyl' : for key value : 12 \n",
      "\n",
      "Probable message : 'Mabl bl fr 2lm Oxklbhg hy Vxtlxkl Vbiaxk' : for key value : 13 \n",
      "\n",
      "Probable message : 'Lzak ak eq 1kl Nwjkagf gx Uwskwjk Uahzwj' : for key value : 14 \n",
      "\n",
      "Probable message : 'Kyzj zj dp 0jk Mvijzfe fw Tvrjvij Tzgyvi' : for key value : 15 \n",
      "\n",
      "Probable message : 'Jxyi yi co 9ij Luhiyed ev Suqiuhi Syfxuh' : for key value : 16 \n",
      "\n",
      "Probable message : 'Iwxh xh bn 8hi Ktghxdc du Rtphtgh Rxewtg' : for key value : 17 \n",
      "\n",
      "Probable message : 'Hvwg wg am 7gh Jsfgwcb ct Qsogsfg Qwdvsf' : for key value : 18 \n",
      "\n",
      "Probable message : 'Guvf vf zl 6fg Irefvba bs Prnfref Pvcure' : for key value : 19 \n",
      "\n",
      "Probable message : 'Ftue ue yk 5ef Hqdeuaz ar Oqmeqde Oubtqd' : for key value : 20 \n",
      "\n",
      "Probable message : 'Estd td xj 4de Gpcdtzy zq Npldpcd Ntaspc' : for key value : 21 \n",
      "\n",
      "Probable message : 'Drsc sc wi 3cd Fobcsyx yp Mokcobc Mszrob' : for key value : 22 \n",
      "\n",
      "Probable message : 'Cqrb rb vh 2bc Enabrxw xo Lnjbnab Lryqna' : for key value : 23 \n",
      "\n",
      "Probable message : 'Bpqa qa ug 1ab Dmzaqwv wn Kmiamza Kqxpmz' : for key value : 24 \n",
      "\n",
      "Probable message : 'Aopz pz tf 0za Clyzpvu vm Jlhzlyz Jpwoly' : for key value : 25 \n"
     ]
    }
   ],
   "source": [
    "attack(ciphertext)"
   ]
  },
  {
   "cell_type": "code",
   "execution_count": null,
   "metadata": {},
   "outputs": [],
   "source": []
  }
 ],
 "metadata": {
  "kernelspec": {
   "display_name": "Python 3",
   "language": "python",
   "name": "python3"
  },
  "language_info": {
   "codemirror_mode": {
    "name": "ipython",
    "version": 3
   },
   "file_extension": ".py",
   "mimetype": "text/x-python",
   "name": "python",
   "nbconvert_exporter": "python",
   "pygments_lexer": "ipython3",
   "version": "3.6.5"
  }
 },
 "nbformat": 4,
 "nbformat_minor": 2
}
