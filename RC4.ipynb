{
 "cells": [
  {
   "cell_type": "markdown",
   "metadata": {},
   "source": [
    "# Imports"
   ]
  },
  {
   "cell_type": "code",
   "execution_count": 1,
   "metadata": {},
   "outputs": [],
   "source": [
    "import numpy as np"
   ]
  },
  {
   "cell_type": "markdown",
   "metadata": {},
   "source": [
    "# Function for Key Scheduling"
   ]
  },
  {
   "cell_type": "code",
   "execution_count": 2,
   "metadata": {},
   "outputs": [],
   "source": [
    "def Key_Sched(key):\n",
    "    key_len = len(key)\n",
    "    S = list(range(256)) # list [0,1,...,255]\n",
    "    j = 0 \n",
    "    for i in range(256):\n",
    "        j = (j + S[i] + key[i % key_len]) % 256\n",
    "        S[i],S[j] = S[j],S[i]\n",
    "    \n",
    "    return S"
   ]
  },
  {
   "cell_type": "markdown",
   "metadata": {},
   "source": [
    "# Function for Psuedo-random Number generation"
   ]
  },
  {
   "cell_type": "code",
   "execution_count": 3,
   "metadata": {},
   "outputs": [],
   "source": [
    "def PRNG(S,n):\n",
    "    i = 0\n",
    "    j = 0\n",
    "    key = []\n",
    "    \n",
    "    while  n > 0:\n",
    "        n-= 1\n",
    "        i = (i + 1) % 256\n",
    "        j = (j + S[i] ) % 256\n",
    "        S[i],S[j] = S[j],S[i]\n",
    "        k = S[(S[i] + S[j]) % 256] \n",
    "        key.append(k)\n",
    "    \n",
    "    return key"
   ]
  },
  {
   "cell_type": "markdown",
   "metadata": {},
   "source": [
    "# saving long key and plain text for demonstration purpose\n",
    "    key = 'Atticus said to Jem one day, “I’d rather you shot at tin cans in the backyard, but I know you’ll go after birds. Shoot all the blue jays you want, if you can hit ‘em, but remember it’s a sin to kill a mockingbird.” That was the only time I ever heard Atticus say it was a sin to do something, and I asked Miss Maudie about it. “Your father’s right,” she said. “Mockingbirds don’t do one thing except make music for us to enjoy. They don’t eat up people’s gardens, don’t nest in corn cribs, they don’t do one thing but sing their hearts out for us. That’s why it’s a sin to kill a mockingbird.'\n",
    "\n",
    "    plaintext = 'Call me Ishmael. Some years ago — never mind how long precisely — having little or no money in my purse, and nothing particular to interest me on shore, I thought I would sail about a little and see the watery part of the world. It is a way I have of driving off the spleen, and regulating the circulation. Whenever I find myself growing grim about the mouth; whenever it is a damp, drizzly November in my soul; whenever I find myself involuntarily pausing before coffin warehouses, and bringing up the rear of every funeral I meet; and especially whenever my hypos get such an upper hand of me, that it requires a strong moral principle to prevent me from deliberately stepping into the street, and methodically knocking people’s hats off — then, I account it high time to get to sea as soon as I can.'"
   ]
  },
  {
   "cell_type": "markdown",
   "metadata": {},
   "source": [
    "# Function for Key Generation\n",
    "    given a key simply convert each charecter in it to its corressponding ASCII value"
   ]
  },
  {
   "cell_type": "code",
   "execution_count": 4,
   "metadata": {},
   "outputs": [],
   "source": [
    "key = 'Shrijeet123!'\n",
    "def key_generataion(s):\n",
    "    return [ord(ch) for ch in s]"
   ]
  },
  {
   "cell_type": "code",
   "execution_count": 5,
   "metadata": {},
   "outputs": [],
   "source": [
    "key = key_generataion(key)"
   ]
  },
  {
   "cell_type": "code",
   "execution_count": 6,
   "metadata": {},
   "outputs": [
    {
     "data": {
      "text/plain": [
       "[83, 104, 114, 105, 106, 101, 101, 116, 49, 50, 51, 33]"
      ]
     },
     "execution_count": 6,
     "metadata": {},
     "output_type": "execute_result"
    }
   ],
   "source": [
    "key"
   ]
  },
  {
   "cell_type": "markdown",
   "metadata": {},
   "source": [
    "# Taking an arbitary plaintext to check our Key Scheduling and psuedo random number generation function whichis used to generate the key stream for encrytion and decryption"
   ]
  },
  {
   "cell_type": "code",
   "execution_count": 7,
   "metadata": {},
   "outputs": [
    {
     "data": {
      "text/plain": [
       "array([184, 130, 174,  62, 100,  55, 180,  16, 122,  99, 217,  56, 142,\n",
       "        63])"
      ]
     },
     "execution_count": 7,
     "metadata": {},
     "output_type": "execute_result"
    }
   ],
   "source": [
    "plaintext = \"This is a demo\"  #length of this = 14 charecters\n",
    "S = Key_Sched(key)\n",
    "key_stream = np.array( PRNG( S , len(plaintext) ))\n",
    "key_stream"
   ]
  },
  {
   "cell_type": "markdown",
   "metadata": {},
   "source": [
    "# convert plaintext into a array such that is element is the ASCII of each charecter in plain  text \n",
    "    Required later for encryption and decryption\n",
    "    as cipher = plaintext XOR key stream\n",
    "    and plaintext = cipher XOR key stream"
   ]
  },
  {
   "cell_type": "code",
   "execution_count": 8,
   "metadata": {},
   "outputs": [
    {
     "data": {
      "text/plain": [
       "array([ 84, 104, 105, 115,  32, 105, 115,  32,  97,  32, 100, 101, 109,\n",
       "       111])"
      ]
     },
     "execution_count": 8,
     "metadata": {},
     "output_type": "execute_result"
    }
   ],
   "source": [
    "plaintext = np.array([ord(ch) for ch in plaintext])  \n",
    "plaintext"
   ]
  },
  {
   "cell_type": "markdown",
   "metadata": {},
   "source": [
    "# Function for creating files inside and reading files from the working directory"
   ]
  },
  {
   "cell_type": "code",
   "execution_count": 9,
   "metadata": {},
   "outputs": [],
   "source": [
    "def createPlainText():\n",
    "    s = input(\"Enter your message :\\n\")\n",
    "    text_file = open(\"Plaintext.txt\", \"wt\",encoding=\"utf-8\")\n",
    "    n = text_file.write(s)\n",
    "    text_file.close()\n",
    "    \n",
    "    print(\"\\nMessage exported to working directory as 'Plaintext.txt'\\n\")\n",
    "    return \"Plaintext.txt\""
   ]
  },
  {
   "cell_type": "code",
   "execution_count": 10,
   "metadata": {},
   "outputs": [],
   "source": [
    "def readFile(filename):\n",
    "    lines = []\n",
    "    with open(filename,encoding=\"utf-8\") as f:\n",
    "        lines = f.readlines()\n",
    "        \n",
    "    String = ''.join([str(elem) for elem in lines])\n",
    "    return String"
   ]
  },
  {
   "cell_type": "markdown",
   "metadata": {},
   "source": [
    "# Function to accept key and plain text from user"
   ]
  },
  {
   "cell_type": "code",
   "execution_count": 11,
   "metadata": {},
   "outputs": [],
   "source": [
    "def accept():\n",
    "    file = createPlainText()\n",
    "    key = input(\"Enter key :\")\n",
    "    return key,file"
   ]
  },
  {
   "cell_type": "code",
   "execution_count": null,
   "metadata": {},
   "outputs": [],
   "source": []
  },
  {
   "cell_type": "code",
   "execution_count": null,
   "metadata": {},
   "outputs": [],
   "source": []
  },
  {
   "cell_type": "markdown",
   "metadata": {},
   "source": [
    "# Implementation "
   ]
  },
  {
   "cell_type": "markdown",
   "metadata": {},
   "source": [
    "# Function for encryption of plain text"
   ]
  },
  {
   "cell_type": "code",
   "execution_count": 12,
   "metadata": {},
   "outputs": [],
   "source": [
    "def encrypt(filename, key):\n",
    "    plaintext = readFile(filename)\n",
    "    key = key_generataion(key)\n",
    "    S = Key_Sched(key)\n",
    "    key_stream = np.array( PRNG( S , len(plaintext) ))\n",
    "    \n",
    "    plaintext = np.array([ord(ch) for ch in plaintext])\n",
    "    \n",
    "    cipher = key_stream ^ plaintext\n",
    "    cipher = [chr(i) for i in cipher]\n",
    "    cipher = ''.join([str(elem) for elem in cipher])\n",
    "    \n",
    "    text_file = open(\"cipher.txt\", \"wt\",encoding='utf-8')\n",
    "    for item in cipher:\n",
    "        n = text_file.write(str(str(item)))\n",
    "    text_file.close()\n",
    "    \n",
    "    print(\"\\nEncrypting the message...\\nGenerating the cipher...\")\n",
    "    print(\"\\nEncryption complete...\\nCipher Text exported to Working Directory...\\n\")\n",
    "    \n",
    "    print(\"\\nDisplaying the Encrypted message : {}\".format(cipher))\n",
    "    "
   ]
  },
  {
   "cell_type": "markdown",
   "metadata": {},
   "source": [
    "# Function for decryption of Cipher Text "
   ]
  },
  {
   "cell_type": "code",
   "execution_count": 13,
   "metadata": {},
   "outputs": [],
   "source": [
    "def decrypt(filename, key):\n",
    "    ciphertext = readFile(filename)\n",
    "    key = key_generataion(key)\n",
    "    S = Key_Sched(key)\n",
    "    key_stream = np.array( PRNG( S , len(ciphertext) ))\n",
    "    \n",
    "    ciphertext = np.array([ord(ch) for ch in ciphertext])\n",
    "    \n",
    "    recovered = key_stream ^ ciphertext\n",
    "    recovered = [chr(i) for i in recovered]\n",
    "    recovered = ''.join([str(elem) for elem in recovered])\n",
    "    \n",
    "    text_file = open(\"recovered.txt\", \"wt\",encoding=\"utf-8\")\n",
    "    for item in recovered:\n",
    "        n = text_file.write(str(str(item)))\n",
    "    text_file.close()\n",
    "    \n",
    "    print(\"\\nDecrypting the message...\\nRecovering text...\")\n",
    "    print(\"\\nDecryption complete...\\nRecoverd Text exported to Working Directory...\\n\")\n",
    "    \n",
    "    print(\"\\nDisplaying the decrypted message : {}\".format(recovered))"
   ]
  },
  {
   "cell_type": "markdown",
   "metadata": {},
   "source": [
    "# Demonstration\n",
    "    \n",
    "    1. with small length key and plaintext \n",
    "    2. with large length key and plaintext"
   ]
  },
  {
   "cell_type": "markdown",
   "metadata": {},
   "source": [
    "# 1. with small length key and plaintext "
   ]
  },
  {
   "cell_type": "code",
   "execution_count": 14,
   "metadata": {},
   "outputs": [
    {
     "name": "stdout",
     "output_type": "stream",
     "text": [
      "Enter your message :\n",
      "This is my version of RC4 cipher !!@\n",
      "\n",
      "Message exported to working directory as 'Plaintext.txt'\n",
      "\n",
      "Enter key :shrijeet7\n"
     ]
    }
   ],
   "source": [
    "key,file = accept()"
   ]
  },
  {
   "cell_type": "code",
   "execution_count": 15,
   "metadata": {},
   "outputs": [
    {
     "name": "stdout",
     "output_type": "stream",
     "text": [
      "\n",
      "Encrypting the message...\n",
      "Generating the cipher...\n",
      "\n",
      "Encryption complete...\n",
      "Cipher Text exported to Working Directory...\n",
      "\n",
      "\n",
      "Displaying the Encrypted message : gÚ¶°.Dá¨2é2ª\u0017¨0K£\u001b\u0010Ð{G>>\u0006úsÓÖ²\u0014û\n"
     ]
    }
   ],
   "source": [
    "encrypt(file,key)"
   ]
  },
  {
   "cell_type": "code",
   "execution_count": 16,
   "metadata": {},
   "outputs": [
    {
     "name": "stdout",
     "output_type": "stream",
     "text": [
      "\n",
      "Decrypting the message...\n",
      "Recovering text...\n",
      "\n",
      "Decryption complete...\n",
      "Recoverd Text exported to Working Directory...\n",
      "\n",
      "\n",
      "Displaying the decrypted message : This is my version of RC4 cipher !!@\n"
     ]
    }
   ],
   "source": [
    "decrypt(\"cipher.txt\",key)"
   ]
  },
  {
   "cell_type": "markdown",
   "metadata": {},
   "source": [
    "# 2. with large length key and plaintext"
   ]
  },
  {
   "cell_type": "code",
   "execution_count": 17,
   "metadata": {},
   "outputs": [
    {
     "name": "stdout",
     "output_type": "stream",
     "text": [
      "Enter your message :\n",
      "Call me Ishmael. Some years ago — never mind how long precisely — having little or no money in my purse, and nothing particular to interest me on shore, I thought I would sail about a little and see the watery part of the world. It is a way I have of driving off the spleen, and regulating the circulation. Whenever I find myself growing grim about the mouth; whenever it is a damp, drizzly November in my soul; whenever I find myself involuntarily pausing before coffin warehouses, and bringing up the rear of every funeral I meet; and especially whenever my hypos get such an upper hand of me, that it requires a strong moral principle to prevent me from deliberately stepping into the street, and methodically knocking people’s hats off — then, I account it high time to get to sea as soon as I can.\n",
      "\n",
      "Message exported to working directory as 'Plaintext.txt'\n",
      "\n",
      "Enter key :Atticus said to Jem one day, “I’d rather you shot at tin cans in the backyard, but I know you’ll go after birds. Shoot all the blue jays you want, if you can hit ‘em, but remember it’s a sin to kill a mockingbird.” That was the only time I ever heard Atticus say it was a sin to do something, and I asked Miss Maudie about it. “Your father’s right,” she said. “Mockingbirds don’t do one thing except make music for us to enjoy. They don’t eat up people’s gardens, don’t nest in corn cribs, they don’t do one thing but sing their hearts out for us. That’s why it’s a sin to kill a mockingbird.\n"
     ]
    }
   ],
   "source": [
    "key,file = accept()"
   ]
  },
  {
   "cell_type": "code",
   "execution_count": 18,
   "metadata": {},
   "outputs": [
    {
     "name": "stdout",
     "output_type": "stream",
     "text": [
      "\n",
      "Encrypting the message...\n",
      "Generating the cipher...\n",
      "\n",
      "Encryption complete...\n",
      "Cipher Text exported to Working Directory...\n",
      "\n",
      "\n",
      "Displaying the Encrypted message : Ü&ð\\u\\Ç÷©TA¤{°\u0005mä\u001c",
      "¡ü\u0007îëÀ\\ôe⁏À/«°¢\u001bí\b£ÀÔý\u0015¿×Ã_[ëJ.Æ\u0016\u0010Ò⁈sÑH-\u0018\u0010obé8ú<\u0000ÜÑ@°\u0010±mivø»\r",
      "î)(ÆT@ÛI!M\tZKÌÝÕÍáÚ÷¨7µò£æ`ò*Hp\n",
      "çv\r",
      "\u0019Òb^sÔ­ÝÝã´\u001d",
      "¤~m¡ÅU%ª+h\u0010¾\u0015FS;êébðÔaóáÒð>ó¡År[fÑ?ùSCÃ^,´î9©Û\n",
      "0OiÙ¬ÄÛPÑE`Q\\VrìÏ¥ä§I@êÛ&Ñç¨%Cø4£m{ØV:|Ê{ñv2\bh%s­ø}ñÖ!:\u001e",
      "t\u0007àÊ]Öwï¿d0xÜ\u0012ÅúeÏ63ië\tvÙ³ñÛ.» jÆv$IËÁc\u0013\u0005pÙie4ÿ\u000b",
      "§þç\u0017\u0006ïÞoe\u0005z\u0005%+ª}Õ\u0010bì6gßÙÉ}=Æ§{2¦.ßùC\u0016Í\u0007øHºãµ4uN\u00164áfèé\\\u0019Ó*xß|¾«×Þæ¨AqÔ5þíÐ3æýB®°!õìil¬v¾[\u0016cÊ±©Yrú6k¢¼É\u0019[z\u001e",
      "º\u0001\u001d",
      "­1»¤5vB¡W~2â\u000eTéØse>qO\u001d",
      "ÿ´ú#èÃ´\u0005\u0002-I¨J\u000eð",
      "a\u0019ÏÜxÚ\u001b\b\u0015Ù\u0017\u001d",
      "åyd©gþ\u001e",
      "³\u000fÈV;]b¸ÞicÑ×½ºi´X\u0011¤\u0013¶k£m¯Dÿ:Þ´ÀÅ\u0005ËÔ\u001f",
      "Kþ~ôÚá\u001fF[\u0012¥\u001d",
      "Fa`o¼6A\u0013ðK±Ê°YÿL½²<Ñ\u00110>g×Q\u0013þã¯Å48cJôÄr©U¯\u001c",
      "",
      "E ­\u001aÎ\u000e",
      "\u0003 ,³dü\u0011ø|s\u0018|F\u0000á~³^\u0019´Iqkª\"\u0003%ØÉäfQÒ}Zã\u0014¢Ç¯5\u001e",
      "·-|9Có\u0001\u001e",
      "ÏJ°\u001fDÁÅÑ&>¡G/´±íõQíÃ\u001d",
      "Âö+nOÛÏAþ¡Ä\u000762{CL³\u0004ÂÕ‱{\u0011.\u0000\u00135Ú\u001f©⃉Þ=TvYô\f",
      "î5ð¶¤·rìèó\u0015åÃ4È½þ#iã&@ýs×ÿïÍK[¸0Î­=«é4\u001e",
      "ZÓÑ\f",
      "¥Ó@=\n"
     ]
    }
   ],
   "source": [
    "encrypt(file,key)"
   ]
  },
  {
   "cell_type": "code",
   "execution_count": 19,
   "metadata": {},
   "outputs": [
    {
     "name": "stdout",
     "output_type": "stream",
     "text": [
      "\n",
      "Decrypting the message...\n",
      "Recovering text...\n",
      "\n",
      "Decryption complete...\n",
      "Recoverd Text exported to Working Directory...\n",
      "\n",
      "\n",
      "Displaying the decrypted message : Call me Ishmael. Some years ago — never mind how long precisely — having little or no money'in my purse, and nothing particular to'interest me on shore, I thought I would sail about a little and see the watery part of the world. It is a way I have of driving off the spleen, and regulating the circulation. Whenever I find myself growing grim about the mouth; whenever it is a damp, drizzly November in my soul; whenever I find myself involuntarily pausing before coffin warehouses, and bringing up the rear of every funeral I meet; and especially whenever my hypos get such an upper hand of me, that it requires a strong moral principle to prevent me from deliberately stepping into the street, and methodically knocking people’s hats off — then, I account it high time to get to sea as soon as I can.\n"
     ]
    }
   ],
   "source": [
    "decrypt(\"cipher.txt\",key)"
   ]
  }
 ],
 "metadata": {
  "kernelspec": {
   "display_name": "Python 3",
   "language": "python",
   "name": "python3"
  },
  "language_info": {
   "codemirror_mode": {
    "name": "ipython",
    "version": 3
   },
   "file_extension": ".py",
   "mimetype": "text/x-python",
   "name": "python",
   "nbconvert_exporter": "python",
   "pygments_lexer": "ipython3",
   "version": "3.6.5"
  }
 },
 "nbformat": 4,
 "nbformat_minor": 2
}
