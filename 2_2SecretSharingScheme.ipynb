{
 "cells": [
  {
   "cell_type": "markdown",
   "metadata": {},
   "source": [
    "# Imports"
   ]
  },
  {
   "cell_type": "code",
   "execution_count": 1,
   "metadata": {},
   "outputs": [],
   "source": [
    "import random as rn\n",
    "import numpy as np"
   ]
  },
  {
   "cell_type": "markdown",
   "metadata": {},
   "source": [
    "# Rough Space\n",
    "\n",
    "    1. try to convert a string to its binary equivalent\n",
    "    2. try to generate a random binary string of given length 'n"
   ]
  },
  {
   "cell_type": "code",
   "execution_count": 2,
   "metadata": {},
   "outputs": [
    {
     "data": {
      "text/plain": [
       "'0111001101001000011100100110100101000010011010010111001101010111001101110010001100100100'"
      ]
     },
     "execution_count": 2,
     "metadata": {},
     "output_type": "execute_result"
    }
   ],
   "source": [
    "s = \"sHriBisW7#$\"\n",
    "bineq = ''.join(format(ord(i),'08b') for i in s)\n",
    "n = len(bineq)\n",
    "bineq"
   ]
  },
  {
   "cell_type": "code",
   "execution_count": 3,
   "metadata": {},
   "outputs": [
    {
     "data": {
      "text/plain": [
       "'1100000000100001011111111101101010010100100001000011011101111001000111111000101001000111'"
      ]
     },
     "execution_count": 3,
     "metadata": {},
     "output_type": "execute_result"
    }
   ],
   "source": [
    "ss1 = \"\"\n",
    "for i in range(n):\n",
    "    temp = str(rn.randint(0, 1))\n",
    "    ss1 += temp\n",
    "\n",
    "ss1"
   ]
  },
  {
   "cell_type": "code",
   "execution_count": null,
   "metadata": {},
   "outputs": [],
   "source": []
  },
  {
   "cell_type": "code",
   "execution_count": null,
   "metadata": {},
   "outputs": [],
   "source": []
  },
  {
   "cell_type": "code",
   "execution_count": null,
   "metadata": {},
   "outputs": [],
   "source": []
  },
  {
   "cell_type": "markdown",
   "metadata": {},
   "source": [
    "# 2,2 Secret sharing Scheme"
   ]
  },
  {
   "cell_type": "markdown",
   "metadata": {},
   "source": [
    "# Function to split a given string into list of charecters"
   ]
  },
  {
   "cell_type": "code",
   "execution_count": 4,
   "metadata": {},
   "outputs": [],
   "source": [
    "def split(string):\n",
    "    return [int(char) for char in string]"
   ]
  },
  {
   "cell_type": "markdown",
   "metadata": {},
   "source": [
    " # Function to split a given list or array of charecters into a single string"
   ]
  },
  {
   "cell_type": "code",
   "execution_count": 5,
   "metadata": {},
   "outputs": [],
   "source": [
    "def arr2str(arr):\n",
    "    str1 = \"\" \n",
    "    for ele in arr: \n",
    "        str1 += str(ele)   \n",
    "    return str1 "
   ]
  },
  {
   "cell_type": "markdown",
   "metadata": {},
   "source": [
    "# function to create a textfile and read a text file from the working directory"
   ]
  },
  {
   "cell_type": "code",
   "execution_count": 6,
   "metadata": {},
   "outputs": [],
   "source": [
    "def createSecret():\n",
    "    s = input(\"Enter your message :\\n\")\n",
    "    text_file = open(\"Secret.txt\", \"wt\")\n",
    "    n = text_file.write(s)\n",
    "    text_file.close()\n",
    "    \n",
    "    print(\"\\nMessage exported to working directory as 'Secret.txt'\\n\")"
   ]
  },
  {
   "cell_type": "code",
   "execution_count": 7,
   "metadata": {},
   "outputs": [],
   "source": [
    "def readFile(filename):\n",
    "    lines = []\n",
    "    with open(filename) as f:\n",
    "        lines = f.readlines()\n",
    "        \n",
    "    String = ''.join([str(elem) for elem in lines])\n",
    "    return String"
   ]
  },
  {
   "cell_type": "markdown",
   "metadata": {},
   "source": [
    "# Function to create a random string of length n\n",
    "    it has 2 modes:\n",
    "        default : binary -> the string created has only 0's and 1's\n",
    "        constant : the string created has only 0 (used when only 1 share is specified and 2nd share is missing)"
   ]
  },
  {
   "cell_type": "code",
   "execution_count": 8,
   "metadata": {},
   "outputs": [],
   "source": [
    "def genRandBiStr(n, mode=\"binary\"):\n",
    "    ss1 = []\n",
    "    if mode == 'constant':\n",
    "        for i in range(n):\n",
    "            ss1.append(0)\n",
    "    else:\n",
    "        for i in range(n):\n",
    "            temp = rn.randint(0, 1)\n",
    "            ss1.append(temp)\n",
    "\n",
    "    return ss1"
   ]
  },
  {
   "cell_type": "markdown",
   "metadata": {},
   "source": [
    "# Share Generation Algorithm"
   ]
  },
  {
   "cell_type": "code",
   "execution_count": 9,
   "metadata": {},
   "outputs": [],
   "source": [
    "def secrectShareGeneration(filename):\n",
    "    message = readFile(filename)                                    #read message\n",
    "    bineq = ''.join(format(ord(i),'08b') for i in message)          #convert to binary\n",
    "    n = len(bineq)\n",
    "    \n",
    "    # secret is the array version of binary equivalent of accepted string\n",
    "    secret = split(bineq)\n",
    "    secret = np.array(secret)\n",
    "    \n",
    "    # share1 is a random binary string of length = length of binary equivalent \n",
    "    share1 = genRandBiStr(n)\n",
    "    share1 = np.array(share1)\n",
    "    \n",
    "    #share2 is actual secret XOR secret1\n",
    "    share2 = secret ^ share1\n",
    "    \n",
    "    #convert both share into strings and save in respective text file in working directory\n",
    "    share1 = arr2str(share1)\n",
    "    share2 = arr2str(share2)\n",
    "    \n",
    "    text_file = open(\"Person1Share.txt\", \"wt\")\n",
    "    for item in share1:\n",
    "        n = text_file.write(str(str(item)))\n",
    "    text_file.close()\n",
    "    \n",
    "    text_file = open(\"Person2Share.txt\", \"wt\")\n",
    "    for item in share2:\n",
    "        n = text_file.write(str(str(item)))\n",
    "    text_file.close()\n",
    "    \n",
    "    print(\"\\nSecret shares Generated...\\nBoth Shares are exported to Working Directory...\\n\")\n",
    "    \n",
    "    print(\"Share1 : {}\\nShare2 : {}\".format(share1,share2))"
   ]
  },
  {
   "cell_type": "markdown",
   "metadata": {},
   "source": [
    "# secret Reconstruction Algorithm :\n",
    "    successfully reconstructs the original message if both the shares are given correct \n",
    "    incase only one share or incorrect shares is provided the secret is not unlocked"
   ]
  },
  {
   "cell_type": "code",
   "execution_count": 10,
   "metadata": {},
   "outputs": [],
   "source": [
    "def secRegen(Sec1=None,Sec2=None):\n",
    "    s1 = readFile(Sec1)\n",
    "    s1 = split(s1)\n",
    "    s1 = np.array(s1)\n",
    "    if Sec2 != None:\n",
    "        s2 = readFile(Sec2)\n",
    "        s2 = split(s2)\n",
    "        s2 = np.array(s2)\n",
    "    else:\n",
    "        s2 = genRandBiStr(len(s1),mode='constant')  # when only 1 share is provided assumes share 2 to be all 0's\n",
    "        s2 = np.array(s2)\n",
    "        \n",
    "    secret = s1 ^ s2\n",
    "    secret = arr2str(secret)\n",
    "    \n",
    "    m =[]\n",
    "    for i in range(0,len(s1),8):\n",
    "        temp = secret[i:i+8]\n",
    "        m.append(temp)\n",
    "    m = [chr(int(i,2)) for i in m]\n",
    "    m = arr2str(m)\n",
    "    \n",
    "    text_file = open(\"RecoverdSecret.txt\", \"wt\",encoding='utf-8')\n",
    "    for item in m:\n",
    "        n = text_file.write(str(str(item)))\n",
    "    text_file.close()\n",
    "    \n",
    "    print(\"\\nGenerating Secret from given inputs\\n\\nThe origianl Secret Could have been : \\n{}\".format(m))"
   ]
  },
  {
   "cell_type": "code",
   "execution_count": null,
   "metadata": {},
   "outputs": [],
   "source": []
  },
  {
   "cell_type": "markdown",
   "metadata": {},
   "source": [
    "# Demostration\n",
    "        secret = given message in a text file\n",
    "        share1 = a random binary string of length = length of binary equivalent of given message\n",
    "        share2 = secret XOR share1\n",
    "        recoverd_secret = share1 XOR share2"
   ]
  },
  {
   "cell_type": "code",
   "execution_count": 11,
   "metadata": {},
   "outputs": [
    {
     "name": "stdout",
     "output_type": "stream",
     "text": [
      "Enter your message :\n",
      "This is my version of the 2,2 secret sharing scheme. I am pretty confident this algorithm will work for input message of any length and the message may include any special character with the exception of ENTER , 13468@!%^!&\n",
      "\n",
      "Message exported to working directory as 'Secret.txt'\n",
      "\n"
     ]
    }
   ],
   "source": [
    "message = createSecret()"
   ]
  },
  {
   "cell_type": "code",
   "execution_count": 12,
   "metadata": {},
   "outputs": [
    {
     "name": "stdout",
     "output_type": "stream",
     "text": [
      "\n",
      "Secret shares Generated...\n",
      "Both Shares are exported to Working Directory...\n",
      "\n",
      "Share1 : 10000101010001011010110100000111011111100101100011001101001111010110010011001110100101101101010101000000001110000100110111111101001101011100111100111011011000011110001011011101110101110111110001101001001101110101001111101010010111111110000111000110100100111101101110101111111010011110111000110101100100111110100110010010100110000100000111110101000010000001001101001111001000100001100100000010010100101100111111010001010010001100000010110111000110110101000011101011110011001000010000001010111100001011101110001101111011111100010010011010010111101011101001100111110011101101000001011010000000100111000111110000111011010101001010001001110101110001001101101100110111101000101110101100001101111111100011010010001110101100000011111001110001110010101111111001100101111010111110111100100110100100010011001000100001000000001111100011111111101111000100110000110000001110011011001100101101010000110111111010010000111100111011001011010100011001100100110111011010000010011100011010111110010101000001100011001101001001011100010111110011011011010111101100110000010010111101001110001111100101110000100001101101010100011011010111000010100110000010110000000000101100111110010110100110001101101111000100110001111111110011011111100010010011000100011111101111100111111111111110011110010010011101110100100001001001101110001001110111001100100101100000101101000010101000100110100100100111110110011110000100111000101100010000011100111101100101110011000001001100111000100100100000101010010010010100100111100001010110100011111010001100011001111101101000100000101011100101101100011111100100010000111011111001001110111011001101001010110100100101001111111101000000101010001010010011011011111010111100100100111000011110001000110000000100111010110010100000000011011100111101101011110100110111110100000100001101101110\n",
      "Share2 : 11010001001011011100010001110100010111100011000110111110000111010000100110110111101101101010001100100101010010100011111010010100010110101010000100011011000011101000010011111101101000110001010000001100000101110110000111000110011011011100000110110101111101101011100011011101100011001001101000010101111000001000000111110011111010100010100010011011011011110011001100111100010000010111000101100111001111111010101011111111011010001000100110010111011110100011110111001011101111001111011001101111100001001100111111110100110011111010011111110101001100001101110000001110101010101011010100110100011101100101000110000100100001010011101111111010111101110111001000000000101110011110010011011110010111101000110010111010010101111110000010001110101011100100011110010101101101111101100011010011111010000010111111101000111000100110110010010001110111101001100001011110101100001001001110111000100101010110000010011111001100001011110110101010001101101111110000010111000001110100000100111010100110000011111000011010000101001111101101110010101000111101001010011000101010010000111100101111010100000011100000000001110000010010111010110010001010100000110111010101011100011011110011110111111111111011111011100100101010101001110110100110101010010101100001110001110111010001001110001011000111010100001001010100111001011111010111110000111111001011101000010000110100010100100101001111111100110001000110111110011100001110001101110001000000011011100000010000011100001010101101010110101000101101001111111101111010100111110110000011100111001010111000011000100000100110111110011101110100101001110001100000100110111111101011010100010110101000110101001010010110011111000001101111011001110110001010111111101000000110111000110010000000110011000000001001111111100011011011100100101101101001110000010010100011100110001001001000\n"
     ]
    }
   ],
   "source": [
    "secrectShareGeneration(\"Secret.txt\")"
   ]
  },
  {
   "cell_type": "markdown",
   "metadata": {},
   "source": [
    "# Lets try to reconstruct with either one of the shares and then with incorrect share then with both correct shares"
   ]
  },
  {
   "cell_type": "code",
   "execution_count": 13,
   "metadata": {},
   "outputs": [
    {
     "name": "stdout",
     "output_type": "stream",
     "text": [
      "\n",
      "Generating Secret from given inputs\n",
      "\n",
      "The origianl Secret Could have been : \n",
      "",
      "E­\u0007~XÍ=dÎÕ@8Mý5Ï;aâÝ×|i7Sê_áÆÛ¯éî5éAõ\b\u0013O\"\u0019\u0002RÏÑHÀ·\u001bPëÌ\n",
      "ð»ïÄ^ºgÎÐZ\u0002qðíR×\u0013lÞ¬7øÒ:ÀùÇ+ù¯¼DÈ\u0003ãþñ0ÀæÌµ\r",
      "úCÎËQ7h'\u001aùPc4\u0017ÍµìÁ/N>\\!µF×\n",
      "`°\u0002ÏÛÄÇüß1\u001f¾þy'tÜÉ`´*&}\u0013\u0010sÙs\u0004Î$¤\u0015£èÆ}¢\n",
      "å±ù\u0010ï»4­%?Ð*)6úòN\u001e",
      "#\u0001:Ê\u0000Üö½7ÐCn\n"
     ]
    }
   ],
   "source": [
    "secRegen('Person1Share.txt')"
   ]
  },
  {
   "cell_type": "code",
   "execution_count": 14,
   "metadata": {},
   "outputs": [
    {
     "name": "stdout",
     "output_type": "stream",
     "text": [
      "\n",
      "Generating Secret from given inputs\n",
      "\n",
      "The origianl Secret Could have been : \n",
      "Ñ-Ät^1¾\u001d",
      "\t·¶£%J>Z¡\u001b\u000eý£\u0014\f",
      "\u0017aÆmÁµö¸Ý\u0015àóê(o3<Aqg?ªÿhz=Ë¼öoÏôÏ§õ0Ü\u000eªµ4vQ",
      ";ú÷r\u0000¹äÞ^ºWà®G·ØÓè/èâlÞ^°¸`0½ª6ü\u0017\u0007A:>\u001a\u0014ûr£Ò©\u000f/P8\u0001Á.²*\r",
      "Õq¼÷ÿ¾äª¦©XqÝ\u0013\u001d",
      "BTåõðüº\u0010ÑIOó\u0011¾pãq\u0001¸\u0010p«V¢Óýê}®\u0018oÒ`úÔZJYðogb¿ n2\u00030\tþ6ä¶\u0012bH\n"
     ]
    }
   ],
   "source": [
    "secRegen('Person2Share.txt')"
   ]
  },
  {
   "cell_type": "code",
   "execution_count": 15,
   "metadata": {},
   "outputs": [
    {
     "name": "stdout",
     "output_type": "stream",
     "text": [
      "\n",
      "Generating Secret from given inputs\n",
      "\n",
      "The origianl Secret Could have been : \n",
      "\u0000\u0000\u0000\u0000\u0000\u0000\u0000\u0000\u0000\u0000\u0000\u0000\u0000\u0000\u0000\u0000\u0000\u0000\u0000\u0000\u0000\u0000\u0000\u0000\u0000\u0000\u0000\u0000\u0000\u0000\u0000\u0000\u0000\u0000\u0000\u0000\u0000\u0000\u0000\u0000\u0000\u0000\u0000\u0000\u0000\u0000\u0000\u0000\u0000\u0000\u0000\u0000\u0000\u0000\u0000\u0000\u0000\u0000\u0000\u0000\u0000\u0000\u0000\u0000\u0000\u0000\u0000\u0000\u0000\u0000\u0000\u0000\u0000\u0000\u0000\u0000\u0000\u0000\u0000\u0000\u0000\u0000\u0000\u0000\u0000\u0000\u0000\u0000\u0000\u0000\u0000\u0000\u0000\u0000\u0000\u0000\u0000\u0000\u0000\u0000\u0000\u0000\u0000\u0000\u0000\u0000\u0000\u0000\u0000\u0000\u0000\u0000\u0000\u0000\u0000\u0000\u0000\u0000\u0000\u0000\u0000\u0000\u0000\u0000\u0000\u0000\u0000\u0000\u0000\u0000\u0000\u0000\u0000\u0000\u0000\u0000\u0000\u0000\u0000\u0000\u0000\u0000\u0000\u0000\u0000\u0000\u0000\u0000\u0000\u0000\u0000\u0000\u0000\u0000\u0000\u0000\u0000\u0000\u0000\u0000\u0000\u0000\u0000\u0000\u0000\u0000\u0000\u0000\u0000\u0000\u0000\u0000\u0000\u0000\u0000\u0000\u0000\u0000\u0000\u0000\u0000\u0000\u0000\u0000\u0000\u0000\u0000\u0000\u0000\u0000\u0000\u0000\u0000\u0000\u0000\u0000\u0000\u0000\u0000\u0000\u0000\u0000\u0000\u0000\u0000\u0000\u0000\u0000\u0000\u0000\u0000\u0000\u0000\u0000\u0000\u0000\u0000\u0000\u0000\u0000\u0000\u0000\u0000\n"
     ]
    }
   ],
   "source": [
    "secRegen('Person1Share.txt','Person1Share.txt')"
   ]
  },
  {
   "cell_type": "code",
   "execution_count": 16,
   "metadata": {},
   "outputs": [
    {
     "name": "stdout",
     "output_type": "stream",
     "text": [
      "\n",
      "Generating Secret from given inputs\n",
      "\n",
      "The origianl Secret Could have been : \n",
      "This is my version of the 2,2 secret sharing scheme. I am pretty confident this algorithm will work for input message of any length and the message may include any special character with the exception of ENTER , 13468@!%^!&\n"
     ]
    }
   ],
   "source": [
    "secRegen('Person1Share.txt','Person2Share.txt')"
   ]
  },
  {
   "cell_type": "code",
   "execution_count": null,
   "metadata": {},
   "outputs": [],
   "source": []
  }
 ],
 "metadata": {
  "kernelspec": {
   "display_name": "Python 3",
   "language": "python",
   "name": "python3"
  },
  "language_info": {
   "codemirror_mode": {
    "name": "ipython",
    "version": 3
   },
   "file_extension": ".py",
   "mimetype": "text/x-python",
   "name": "python",
   "nbconvert_exporter": "python",
   "pygments_lexer": "ipython3",
   "version": "3.6.5"
  }
 },
 "nbformat": 4,
 "nbformat_minor": 2
}
